{
  "cells": [
    {
      "cell_type": "markdown",
      "metadata": {
        "id": "view-in-github",
        "colab_type": "text"
      },
      "source": [
        "<a href=\"https://colab.research.google.com/github/PhwTha00/python/blob/main/02_Filtering_%26_Sorting/Fictional%20Army/Exercise.ipynb\" target=\"_parent\"><img src=\"https://colab.research.google.com/assets/colab-badge.svg\" alt=\"Open In Colab\"/></a>"
      ]
    },
    {
      "cell_type": "markdown",
      "metadata": {
        "pycharm": {
          "name": "#%% md\n"
        },
        "id": "aNW45XeCv7DS"
      },
      "source": [
        "# Fictional Army - Filtering and Sorting"
      ]
    },
    {
      "cell_type": "markdown",
      "metadata": {
        "pycharm": {
          "name": "#%% md\n"
        },
        "id": "GK4kfp3Qv7DT"
      },
      "source": [
        "### Introduction:\n",
        "\n",
        "This exercise was inspired by this [page](http://chrisalbon.com/python/)\n",
        "\n",
        "Special thanks to: https://github.com/chrisalbon for sharing the dataset and materials.\n",
        "\n",
        "### Step 1. Import the necessary libraries"
      ]
    },
    {
      "cell_type": "code",
      "execution_count": 36,
      "metadata": {
        "pycharm": {
          "name": "#%%\n"
        },
        "id": "tLdmO0TRv7DT"
      },
      "outputs": [],
      "source": [
        "import pandas as pd"
      ]
    },
    {
      "cell_type": "markdown",
      "metadata": {
        "pycharm": {
          "name": "#%% md\n"
        },
        "id": "HqrsaZVNv7DU"
      },
      "source": [
        "### Step 2. This is the data given as a dictionary"
      ]
    },
    {
      "cell_type": "code",
      "execution_count": 37,
      "metadata": {
        "collapsed": true,
        "pycharm": {
          "name": "#%%\n"
        },
        "id": "K8n4EaNQv7DU"
      },
      "outputs": [],
      "source": [
        "# Create an example dataframe about a fictional army\n",
        "raw_data = {'regiment': ['Nighthawks', 'Nighthawks', 'Nighthawks', 'Nighthawks', 'Dragoons', 'Dragoons', 'Dragoons', 'Dragoons', 'Scouts', 'Scouts', 'Scouts', 'Scouts'],\n",
        "            'company': ['1st', '1st', '2nd', '2nd', '1st', '1st', '2nd', '2nd','1st', '1st', '2nd', '2nd'],\n",
        "            'deaths': [523, 52, 25, 616, 43, 234, 523, 62, 62, 73, 37, 35],\n",
        "            'battles': [5, 42, 2, 2, 4, 7, 8, 3, 4, 7, 8, 9],\n",
        "            'size': [1045, 957, 1099, 1400, 1592, 1006, 987, 849, 973, 1005, 1099, 1523],\n",
        "            'veterans': [1, 5, 62, 26, 73, 37, 949, 48, 48, 435, 63, 345],\n",
        "            'readiness': [1, 2, 3, 3, 2, 1, 2, 3, 2, 1, 2, 3],\n",
        "            'armored': [1, 0, 1, 1, 0, 1, 0, 1, 0, 0, 1, 1],\n",
        "            'deserters': [4, 24, 31, 2, 3, 4, 24, 31, 2, 3, 2, 3],\n",
        "            'origin': ['Arizona', 'California', 'Texas', 'Florida', 'Maine', 'Iowa', 'Alaska', 'Washington', 'Oregon', 'Wyoming', 'Louisana', 'Georgia']}"
      ]
    },
    {
      "cell_type": "markdown",
      "metadata": {
        "pycharm": {
          "name": "#%% md\n"
        },
        "id": "gPpRGAxov7DU"
      },
      "source": [
        "### Step 3. Create a dataframe and assign it to a variable called army.\n",
        "\n",
        "#### Don't forget to include the columns names in the order presented in the dictionary ('regiment', 'company', 'deaths'...) so that the column index order is consistent with the solutions. If omitted, pandas will order the columns alphabetically."
      ]
    },
    {
      "cell_type": "code",
      "execution_count": 38,
      "metadata": {
        "pycharm": {
          "name": "#%%\n"
        },
        "id": "ytzD0-ecv7DU",
        "outputId": "0d41ce8f-4985-4857-eefc-13ed12477d88",
        "colab": {
          "base_uri": "https://localhost:8080/"
        }
      },
      "outputs": [
        {
          "output_type": "stream",
          "name": "stdout",
          "text": [
            "      regiment company  deaths  battles  size  veterans  readiness  armored  \\\n",
            "0   Nighthawks     1st     523        5  1045         1          1        1   \n",
            "1   Nighthawks     1st      52       42   957         5          2        0   \n",
            "2   Nighthawks     2nd      25        2  1099        62          3        1   \n",
            "3   Nighthawks     2nd     616        2  1400        26          3        1   \n",
            "4     Dragoons     1st      43        4  1592        73          2        0   \n",
            "5     Dragoons     1st     234        7  1006        37          1        1   \n",
            "6     Dragoons     2nd     523        8   987       949          2        0   \n",
            "7     Dragoons     2nd      62        3   849        48          3        1   \n",
            "8       Scouts     1st      62        4   973        48          2        0   \n",
            "9       Scouts     1st      73        7  1005       435          1        0   \n",
            "10      Scouts     2nd      37        8  1099        63          2        1   \n",
            "11      Scouts     2nd      35        9  1523       345          3        1   \n",
            "\n",
            "    deserters      origin  \n",
            "0           4     Arizona  \n",
            "1          24  California  \n",
            "2          31       Texas  \n",
            "3           2     Florida  \n",
            "4           3       Maine  \n",
            "5           4        Iowa  \n",
            "6          24      Alaska  \n",
            "7          31  Washington  \n",
            "8           2      Oregon  \n",
            "9           3     Wyoming  \n",
            "10          2    Louisana  \n",
            "11          3     Georgia  \n"
          ]
        }
      ],
      "source": [
        "army = pd.DataFrame(raw_data)\n",
        "print(army)\n"
      ]
    },
    {
      "cell_type": "markdown",
      "metadata": {
        "pycharm": {
          "name": "#%% md\n"
        },
        "id": "EKDme-R9v7DV"
      },
      "source": [
        "### Step 4. Set the 'origin' colum as the index of the dataframe"
      ]
    },
    {
      "cell_type": "code",
      "execution_count": 39,
      "metadata": {
        "pycharm": {
          "name": "#%%\n"
        },
        "id": "qHH5EUZav7DV",
        "outputId": "fc113912-8f62-4934-b77a-698c367f266b",
        "colab": {
          "base_uri": "https://localhost:8080/"
        }
      },
      "outputs": [
        {
          "output_type": "stream",
          "name": "stdout",
          "text": [
            "<bound method DataFrame.set_index of               regiment company  deaths  battles  size  veterans  readiness  \\\n",
            "origin                                                                       \n",
            "Arizona     Nighthawks     1st     523        5  1045         1          1   \n",
            "California  Nighthawks     1st      52       42   957         5          2   \n",
            "Texas       Nighthawks     2nd      25        2  1099        62          3   \n",
            "Florida     Nighthawks     2nd     616        2  1400        26          3   \n",
            "Maine         Dragoons     1st      43        4  1592        73          2   \n",
            "Iowa          Dragoons     1st     234        7  1006        37          1   \n",
            "Alaska        Dragoons     2nd     523        8   987       949          2   \n",
            "Washington    Dragoons     2nd      62        3   849        48          3   \n",
            "Oregon          Scouts     1st      62        4   973        48          2   \n",
            "Wyoming         Scouts     1st      73        7  1005       435          1   \n",
            "Louisana        Scouts     2nd      37        8  1099        63          2   \n",
            "Georgia         Scouts     2nd      35        9  1523       345          3   \n",
            "\n",
            "            armored  deserters  \n",
            "origin                          \n",
            "Arizona           1          4  \n",
            "California        0         24  \n",
            "Texas             1         31  \n",
            "Florida           1          2  \n",
            "Maine             0          3  \n",
            "Iowa              1          4  \n",
            "Alaska            0         24  \n",
            "Washington        1         31  \n",
            "Oregon            0          2  \n",
            "Wyoming           0          3  \n",
            "Louisana          1          2  \n",
            "Georgia           1          3  >\n"
          ]
        }
      ],
      "source": [
        "army.set_index('origin', inplace=True)\n",
        "print(army.set_index)"
      ]
    },
    {
      "cell_type": "markdown",
      "metadata": {
        "pycharm": {
          "name": "#%% md\n"
        },
        "id": "lxEMdFH1v7DV"
      },
      "source": [
        "### Step 5. Print only the column veterans"
      ]
    },
    {
      "cell_type": "code",
      "execution_count": 17,
      "metadata": {
        "pycharm": {
          "name": "#%%\n"
        },
        "id": "fxWiKWTIv7DV",
        "outputId": "a69507f7-57e8-480a-dd65-a0994d0b3fee",
        "colab": {
          "base_uri": "https://localhost:8080/"
        }
      },
      "outputs": [
        {
          "output_type": "stream",
          "name": "stdout",
          "text": [
            "origin\n",
            "Arizona         1\n",
            "California      5\n",
            "Texas          62\n",
            "Florida        26\n",
            "Maine          73\n",
            "Iowa           37\n",
            "Alaska        949\n",
            "Washington     48\n",
            "Oregon         48\n",
            "Wyoming       435\n",
            "Louisana       63\n",
            "Georgia       345\n",
            "Name: veterans, dtype: int64\n"
          ]
        }
      ],
      "source": [
        "print(army['veterans'])\n"
      ]
    },
    {
      "cell_type": "markdown",
      "metadata": {
        "pycharm": {
          "name": "#%% md\n"
        },
        "id": "JllGYub8v7DV"
      },
      "source": [
        "### Step 6. Print the columns 'veterans' and 'deaths'"
      ]
    },
    {
      "cell_type": "code",
      "execution_count": 18,
      "metadata": {
        "pycharm": {
          "name": "#%%\n"
        },
        "id": "bPgduvGOv7DV",
        "outputId": "ff01b44d-8d4a-433a-f588-7a9cd57d1ce1",
        "colab": {
          "base_uri": "https://localhost:8080/"
        }
      },
      "outputs": [
        {
          "output_type": "stream",
          "name": "stdout",
          "text": [
            "            veterans  deaths\n",
            "origin                      \n",
            "Arizona            1     523\n",
            "California         5      52\n",
            "Texas             62      25\n",
            "Florida           26     616\n",
            "Maine             73      43\n",
            "Iowa              37     234\n",
            "Alaska           949     523\n",
            "Washington        48      62\n",
            "Oregon            48      62\n",
            "Wyoming          435      73\n",
            "Louisana          63      37\n",
            "Georgia          345      35\n"
          ]
        }
      ],
      "source": [
        "print(army[['veterans', 'deaths']])\n"
      ]
    },
    {
      "cell_type": "markdown",
      "metadata": {
        "pycharm": {
          "name": "#%% md\n"
        },
        "id": "evwPsQWCv7DV"
      },
      "source": [
        "### Step 7. Print the name of all the columns."
      ]
    },
    {
      "cell_type": "code",
      "execution_count": 19,
      "metadata": {
        "pycharm": {
          "name": "#%%\n"
        },
        "id": "feg_rTeBv7DW",
        "outputId": "ce21b72e-faef-4877-ceb9-2ed3b76bb6fa",
        "colab": {
          "base_uri": "https://localhost:8080/"
        }
      },
      "outputs": [
        {
          "output_type": "stream",
          "name": "stdout",
          "text": [
            "Index(['company', 'deaths', 'battles', 'size', 'veterans', 'readiness',\n",
            "       'armored', 'deserters'],\n",
            "      dtype='object')\n"
          ]
        }
      ],
      "source": [
        "print(army.columns)\n"
      ]
    },
    {
      "cell_type": "markdown",
      "metadata": {
        "pycharm": {
          "name": "#%% md\n"
        },
        "id": "J_wmflF8v7DW"
      },
      "source": [
        "### Step 8. Select the 'deaths', 'size' and 'deserters' columns from Maine and Alaska"
      ]
    },
    {
      "cell_type": "code",
      "execution_count": 22,
      "metadata": {
        "pycharm": {
          "name": "#%%\n"
        },
        "id": "Z7qEH_X0v7DW",
        "outputId": "e059355f-35a6-449a-d3e6-8bee7d9c3022",
        "colab": {
          "base_uri": "https://localhost:8080/"
        }
      },
      "outputs": [
        {
          "output_type": "stream",
          "name": "stdout",
          "text": [
            "        deaths  size  deserters\n",
            "origin                         \n",
            "Maine       43  1592          3\n",
            "Alaska     523   987         24\n"
          ]
        }
      ],
      "source": [
        "print(army.loc[['Maine', 'Alaska'], ['deaths', 'size', 'deserters']])\n"
      ]
    },
    {
      "cell_type": "markdown",
      "metadata": {
        "pycharm": {
          "name": "#%% md\n"
        },
        "id": "opHzEr-2v7DW"
      },
      "source": [
        "### Step 9. Select the rows 3 to 7 and the columns 3 to 6"
      ]
    },
    {
      "cell_type": "code",
      "execution_count": 23,
      "metadata": {
        "pycharm": {
          "name": "#%%\n"
        },
        "id": "RZwaJ2Pnv7DW",
        "outputId": "68925550-5477-4be8-bc5b-e4fb863b9524",
        "colab": {
          "base_uri": "https://localhost:8080/"
        }
      },
      "outputs": [
        {
          "output_type": "stream",
          "name": "stdout",
          "text": [
            "         battles  size  veterans  readiness\n",
            "origin                                     \n",
            "Texas          2  1099        62          3\n",
            "Florida        2  1400        26          3\n",
            "Maine          4  1592        73          2\n",
            "Iowa           7  1006        37          1\n",
            "Alaska         8   987       949          2\n"
          ]
        }
      ],
      "source": [
        "print(army.iloc[2:7, 2:6])\n"
      ]
    },
    {
      "cell_type": "markdown",
      "metadata": {
        "pycharm": {
          "name": "#%% md\n"
        },
        "id": "4GgN5U1Cv7DW"
      },
      "source": [
        "### Step 10. Select every row after the fourth row and all columns"
      ]
    },
    {
      "cell_type": "code",
      "execution_count": 24,
      "metadata": {
        "pycharm": {
          "name": "#%%\n"
        },
        "id": "grUUSMQPv7DW",
        "outputId": "4c380437-7952-457e-ab29-d7e5454c1140",
        "colab": {
          "base_uri": "https://localhost:8080/"
        }
      },
      "outputs": [
        {
          "output_type": "stream",
          "name": "stdout",
          "text": [
            "           company  deaths  battles  size  veterans  readiness  armored  \\\n",
            "origin                                                                    \n",
            "Maine          1st      43        4  1592        73          2        0   \n",
            "Iowa           1st     234        7  1006        37          1        1   \n",
            "Alaska         2nd     523        8   987       949          2        0   \n",
            "Washington     2nd      62        3   849        48          3        1   \n",
            "Oregon         1st      62        4   973        48          2        0   \n",
            "Wyoming        1st      73        7  1005       435          1        0   \n",
            "Louisana       2nd      37        8  1099        63          2        1   \n",
            "Georgia        2nd      35        9  1523       345          3        1   \n",
            "\n",
            "            deserters  \n",
            "origin                 \n",
            "Maine               3  \n",
            "Iowa                4  \n",
            "Alaska             24  \n",
            "Washington         31  \n",
            "Oregon              2  \n",
            "Wyoming             3  \n",
            "Louisana            2  \n",
            "Georgia             3  \n"
          ]
        }
      ],
      "source": [
        "print(army.iloc[4:])\n"
      ]
    },
    {
      "cell_type": "markdown",
      "metadata": {
        "pycharm": {
          "name": "#%% md\n"
        },
        "id": "g5VMnyVlv7DW"
      },
      "source": [
        "### Step 11. Select every row up to the 4th row and all columns"
      ]
    },
    {
      "cell_type": "code",
      "execution_count": 25,
      "metadata": {
        "pycharm": {
          "name": "#%%\n"
        },
        "id": "3V7zn0Dlv7DW",
        "outputId": "5459f987-3434-45a7-ff72-3486d14d59f3",
        "colab": {
          "base_uri": "https://localhost:8080/"
        }
      },
      "outputs": [
        {
          "output_type": "stream",
          "name": "stdout",
          "text": [
            "           company  deaths  battles  size  veterans  readiness  armored  \\\n",
            "origin                                                                    \n",
            "Arizona        1st     523        5  1045         1          1        1   \n",
            "California     1st      52       42   957         5          2        0   \n",
            "Texas          2nd      25        2  1099        62          3        1   \n",
            "Florida        2nd     616        2  1400        26          3        1   \n",
            "\n",
            "            deserters  \n",
            "origin                 \n",
            "Arizona             4  \n",
            "California         24  \n",
            "Texas              31  \n",
            "Florida             2  \n"
          ]
        }
      ],
      "source": [
        "print(army.iloc[:4])\n"
      ]
    },
    {
      "cell_type": "markdown",
      "metadata": {
        "pycharm": {
          "name": "#%% md\n"
        },
        "id": "ENhOXFqYv7DW"
      },
      "source": [
        "### Step 12. Select the 3rd column up to the 7th column"
      ]
    },
    {
      "cell_type": "code",
      "execution_count": 26,
      "metadata": {
        "pycharm": {
          "name": "#%%\n"
        },
        "id": "uSQs0DPBv7DW",
        "outputId": "2a0b2e14-bced-49ec-a4a4-342b4e187be8",
        "colab": {
          "base_uri": "https://localhost:8080/"
        }
      },
      "outputs": [
        {
          "output_type": "stream",
          "name": "stdout",
          "text": [
            "            battles  size  veterans  readiness  armored\n",
            "origin                                                 \n",
            "Arizona           5  1045         1          1        1\n",
            "California       42   957         5          2        0\n",
            "Texas             2  1099        62          3        1\n",
            "Florida           2  1400        26          3        1\n",
            "Maine             4  1592        73          2        0\n",
            "Iowa              7  1006        37          1        1\n",
            "Alaska            8   987       949          2        0\n",
            "Washington        3   849        48          3        1\n",
            "Oregon            4   973        48          2        0\n",
            "Wyoming           7  1005       435          1        0\n",
            "Louisana          8  1099        63          2        1\n",
            "Georgia           9  1523       345          3        1\n"
          ]
        }
      ],
      "source": [
        "print(army.iloc[:, 2:7])\n"
      ]
    },
    {
      "cell_type": "markdown",
      "metadata": {
        "pycharm": {
          "name": "#%% md\n"
        },
        "id": "waq8TihUv7DX"
      },
      "source": [
        "### Step 13. Select rows where df.deaths is greater than 50"
      ]
    },
    {
      "cell_type": "code",
      "execution_count": 27,
      "metadata": {
        "pycharm": {
          "name": "#%%\n"
        },
        "id": "50kmNbnUv7DX",
        "outputId": "a717643e-a57a-48b5-f3de-b15cf35943a2",
        "colab": {
          "base_uri": "https://localhost:8080/"
        }
      },
      "outputs": [
        {
          "output_type": "stream",
          "name": "stdout",
          "text": [
            "           company  deaths  battles  size  veterans  readiness  armored  \\\n",
            "origin                                                                    \n",
            "Arizona        1st     523        5  1045         1          1        1   \n",
            "California     1st      52       42   957         5          2        0   \n",
            "Florida        2nd     616        2  1400        26          3        1   \n",
            "Iowa           1st     234        7  1006        37          1        1   \n",
            "Alaska         2nd     523        8   987       949          2        0   \n",
            "Washington     2nd      62        3   849        48          3        1   \n",
            "Oregon         1st      62        4   973        48          2        0   \n",
            "Wyoming        1st      73        7  1005       435          1        0   \n",
            "\n",
            "            deserters  \n",
            "origin                 \n",
            "Arizona             4  \n",
            "California         24  \n",
            "Florida             2  \n",
            "Iowa                4  \n",
            "Alaska             24  \n",
            "Washington         31  \n",
            "Oregon              2  \n",
            "Wyoming             3  \n"
          ]
        }
      ],
      "source": [
        "print(army[army['deaths'] > 50])\n"
      ]
    },
    {
      "cell_type": "markdown",
      "metadata": {
        "pycharm": {
          "name": "#%% md\n"
        },
        "id": "y8MECOwwv7DX"
      },
      "source": [
        "### Step 14. Select rows where df.deaths is greater than 500 or less than 50"
      ]
    },
    {
      "cell_type": "code",
      "execution_count": 28,
      "metadata": {
        "pycharm": {
          "name": "#%%\n"
        },
        "id": "7n6hzHQ0v7DX",
        "outputId": "be75e19d-4a7e-413d-bd62-f4bf02eee400",
        "colab": {
          "base_uri": "https://localhost:8080/"
        }
      },
      "outputs": [
        {
          "output_type": "stream",
          "name": "stdout",
          "text": [
            "         company  deaths  battles  size  veterans  readiness  armored  \\\n",
            "origin                                                                  \n",
            "Arizona      1st     523        5  1045         1          1        1   \n",
            "Texas        2nd      25        2  1099        62          3        1   \n",
            "Florida      2nd     616        2  1400        26          3        1   \n",
            "Maine        1st      43        4  1592        73          2        0   \n",
            "Alaska       2nd     523        8   987       949          2        0   \n",
            "Louisana     2nd      37        8  1099        63          2        1   \n",
            "Georgia      2nd      35        9  1523       345          3        1   \n",
            "\n",
            "          deserters  \n",
            "origin               \n",
            "Arizona           4  \n",
            "Texas            31  \n",
            "Florida           2  \n",
            "Maine             3  \n",
            "Alaska           24  \n",
            "Louisana          2  \n",
            "Georgia           3  \n"
          ]
        }
      ],
      "source": [
        "print(army[(army['deaths'] > 500) | (army['deaths'] < 50)])\n"
      ]
    },
    {
      "cell_type": "markdown",
      "metadata": {
        "pycharm": {
          "name": "#%% md\n"
        },
        "id": "SdSm5XY0v7DX"
      },
      "source": [
        "### Step 15. Select all the regiments not named \"Dragoons\""
      ]
    },
    {
      "cell_type": "code",
      "execution_count": 40,
      "metadata": {
        "pycharm": {
          "name": "#%%\n"
        },
        "id": "2e1vkrvpv7DX",
        "outputId": "514b1beb-95d4-450a-f8c1-c6a656f048e1",
        "colab": {
          "base_uri": "https://localhost:8080/"
        }
      },
      "outputs": [
        {
          "output_type": "stream",
          "name": "stdout",
          "text": [
            "              regiment company  deaths  battles  size  veterans  readiness  \\\n",
            "origin                                                                       \n",
            "Arizona     Nighthawks     1st     523        5  1045         1          1   \n",
            "California  Nighthawks     1st      52       42   957         5          2   \n",
            "Texas       Nighthawks     2nd      25        2  1099        62          3   \n",
            "Florida     Nighthawks     2nd     616        2  1400        26          3   \n",
            "Oregon          Scouts     1st      62        4   973        48          2   \n",
            "Wyoming         Scouts     1st      73        7  1005       435          1   \n",
            "Louisana        Scouts     2nd      37        8  1099        63          2   \n",
            "Georgia         Scouts     2nd      35        9  1523       345          3   \n",
            "\n",
            "            armored  deserters  \n",
            "origin                          \n",
            "Arizona           1          4  \n",
            "California        0         24  \n",
            "Texas             1         31  \n",
            "Florida           1          2  \n",
            "Oregon            0          2  \n",
            "Wyoming           0          3  \n",
            "Louisana          1          2  \n",
            "Georgia           1          3  \n"
          ]
        }
      ],
      "source": [
        "print(army[army['regiment'] != 'Dragoons'])\n"
      ]
    },
    {
      "cell_type": "markdown",
      "metadata": {
        "pycharm": {
          "name": "#%% md\n"
        },
        "id": "Yx8A6hfKv7DX"
      },
      "source": [
        "### Step 16. Select the rows called Texas and Arizona"
      ]
    },
    {
      "cell_type": "code",
      "execution_count": 41,
      "metadata": {
        "pycharm": {
          "name": "#%%\n"
        },
        "id": "7bAiI8tSv7DX",
        "outputId": "b8dd2e08-0bab-4f56-f8ee-012ea979400d",
        "colab": {
          "base_uri": "https://localhost:8080/"
        }
      },
      "outputs": [
        {
          "output_type": "stream",
          "name": "stdout",
          "text": [
            "           regiment company  deaths  battles  size  veterans  readiness  \\\n",
            "origin                                                                    \n",
            "Texas    Nighthawks     2nd      25        2  1099        62          3   \n",
            "Arizona  Nighthawks     1st     523        5  1045         1          1   \n",
            "\n",
            "         armored  deserters  \n",
            "origin                       \n",
            "Texas          1         31  \n",
            "Arizona        1          4  \n"
          ]
        }
      ],
      "source": [
        "print(army.loc[['Texas', 'Arizona']])\n"
      ]
    },
    {
      "cell_type": "markdown",
      "metadata": {
        "pycharm": {
          "name": "#%% md\n"
        },
        "id": "J4MUh3Tgv7DX"
      },
      "source": [
        "### Step 17. Select the third cell in the row named Arizona"
      ]
    },
    {
      "cell_type": "code",
      "execution_count": 42,
      "metadata": {
        "pycharm": {
          "name": "#%%\n"
        },
        "id": "z1koIdtkv7DX",
        "outputId": "9f8e4e1d-e4bd-4c30-8b13-d39dae6c0223",
        "colab": {
          "base_uri": "https://localhost:8080/"
        }
      },
      "outputs": [
        {
          "output_type": "stream",
          "name": "stdout",
          "text": [
            "5\n"
          ]
        }
      ],
      "source": [
        "print(army.at['Arizona', 'battles'])\n"
      ]
    },
    {
      "cell_type": "markdown",
      "metadata": {
        "pycharm": {
          "name": "#%% md\n"
        },
        "id": "Q3D94nFWv7DX"
      },
      "source": [
        "### Step 18. Select the third cell down in the column named deaths"
      ]
    },
    {
      "cell_type": "code",
      "execution_count": 43,
      "metadata": {
        "pycharm": {
          "name": "#%%\n"
        },
        "id": "zY_a3FLMv7DY",
        "outputId": "25f60eba-850f-4017-aeee-84fedd5a7166",
        "colab": {
          "base_uri": "https://localhost:8080/"
        }
      },
      "outputs": [
        {
          "output_type": "stream",
          "name": "stdout",
          "text": [
            "2nd\n"
          ]
        }
      ],
      "source": [
        "print(army.iat[2, 1])\n"
      ]
    }
  ],
  "metadata": {
    "kernelspec": {
      "display_name": "Python 3",
      "language": "python",
      "name": "python3"
    },
    "language_info": {
      "codemirror_mode": {
        "name": "ipython",
        "version": 3
      },
      "file_extension": ".py",
      "mimetype": "text/x-python",
      "name": "python",
      "nbconvert_exporter": "python",
      "pygments_lexer": "ipython3",
      "version": "3.7.3"
    },
    "colab": {
      "provenance": [],
      "include_colab_link": true
    }
  },
  "nbformat": 4,
  "nbformat_minor": 0
}