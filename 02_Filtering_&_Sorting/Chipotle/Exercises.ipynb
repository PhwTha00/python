{
  "cells": [
    {
      "cell_type": "markdown",
      "metadata": {
        "id": "view-in-github",
        "colab_type": "text"
      },
      "source": [
        "<a href=\"https://colab.research.google.com/github/PhwTha00/python/blob/main/02_Filtering_%26_Sorting/Chipotle/Exercises.ipynb\" target=\"_parent\"><img src=\"https://colab.research.google.com/assets/colab-badge.svg\" alt=\"Open In Colab\"/></a>"
      ]
    },
    {
      "cell_type": "markdown",
      "metadata": {
        "pycharm": {
          "name": "#%% md\n"
        },
        "id": "7kednsPCOGgK"
      },
      "source": [
        "# Ex1 - Filtering and Sorting Data"
      ]
    },
    {
      "cell_type": "markdown",
      "metadata": {
        "pycharm": {
          "name": "#%% md\n"
        },
        "id": "S0InuJAAOGgP"
      },
      "source": [
        "This time we are going to pull data directly from the internet.\n",
        "Special thanks to: https://github.com/justmarkham for sharing the dataset and materials.\n",
        "\n",
        "### Step 1. Import the necessary libraries"
      ]
    },
    {
      "cell_type": "code",
      "execution_count": 2,
      "metadata": {
        "pycharm": {
          "name": "#%%\n",
          "is_executing": true
        },
        "id": "y-G_LMwAOGgQ"
      },
      "outputs": [],
      "source": [
        "import pandas as pd"
      ]
    },
    {
      "cell_type": "markdown",
      "metadata": {
        "pycharm": {
          "name": "#%% md\n"
        },
        "id": "EhHU3pIZOGgQ"
      },
      "source": [
        "### Step 2. Import the dataset from this [address](https://raw.githubusercontent.com/thieu1995/csv-files/main/data/pandas/chipotle.tsv)."
      ]
    },
    {
      "cell_type": "code",
      "source": [
        "url = \"https://raw.githubusercontent.com/thieu1995/csv-files/main/data/pandas/chipotle.tsv\"\n",
        "chipotle_data = pd.read_csv(url, sep='\\t')\n",
        "print(chipotle_data.head())"
      ],
      "metadata": {
        "id": "IhLYvATzOKWk",
        "outputId": "097bb6bf-c1c8-49bb-9c35-8157bd6ee015",
        "colab": {
          "base_uri": "https://localhost:8080/"
        }
      },
      "execution_count": 3,
      "outputs": [
        {
          "output_type": "stream",
          "name": "stdout",
          "text": [
            "   order_id  quantity                              item_name  \\\n",
            "0         1         1           Chips and Fresh Tomato Salsa   \n",
            "1         1         1                                   Izze   \n",
            "2         1         1                       Nantucket Nectar   \n",
            "3         1         1  Chips and Tomatillo-Green Chili Salsa   \n",
            "4         2         2                           Chicken Bowl   \n",
            "\n",
            "                                  choice_description item_price  \n",
            "0                                                NaN     $2.39   \n",
            "1                                       [Clementine]     $3.39   \n",
            "2                                            [Apple]     $3.39   \n",
            "3                                                NaN     $2.39   \n",
            "4  [Tomatillo-Red Chili Salsa (Hot), [Black Beans...    $16.98   \n"
          ]
        }
      ]
    },
    {
      "cell_type": "markdown",
      "metadata": {
        "pycharm": {
          "name": "#%% md\n"
        },
        "id": "wFTcC_5nOGgR"
      },
      "source": [
        "### Step 3. Assign it to a variable called chipo."
      ]
    },
    {
      "cell_type": "code",
      "execution_count": 4,
      "metadata": {
        "pycharm": {
          "name": "#%%\n"
        },
        "id": "Z9qUiZLaOGgS",
        "outputId": "a4ed53ea-87bf-4bb5-fbb2-25ef02b59e6f",
        "colab": {
          "base_uri": "https://localhost:8080/"
        }
      },
      "outputs": [
        {
          "output_type": "stream",
          "name": "stdout",
          "text": [
            "   order_id  quantity                              item_name  \\\n",
            "0         1         1           Chips and Fresh Tomato Salsa   \n",
            "1         1         1                                   Izze   \n",
            "2         1         1                       Nantucket Nectar   \n",
            "3         1         1  Chips and Tomatillo-Green Chili Salsa   \n",
            "4         2         2                           Chicken Bowl   \n",
            "\n",
            "                                  choice_description item_price  \n",
            "0                                                NaN     $2.39   \n",
            "1                                       [Clementine]     $3.39   \n",
            "2                                            [Apple]     $3.39   \n",
            "3                                                NaN     $2.39   \n",
            "4  [Tomatillo-Red Chili Salsa (Hot), [Black Beans...    $16.98   \n"
          ]
        }
      ],
      "source": [
        "chipo = chipotle_data\n",
        "print(chipo.head())"
      ]
    },
    {
      "cell_type": "markdown",
      "metadata": {
        "pycharm": {
          "name": "#%% md\n"
        },
        "id": "R6mNzTYuOGgS"
      },
      "source": [
        "### Step 4. How many products cost more than $10.00?"
      ]
    },
    {
      "cell_type": "code",
      "execution_count": 5,
      "metadata": {
        "pycharm": {
          "name": "#%%\n"
        },
        "id": "6j2NmW_4OGgT",
        "outputId": "3e8db77e-56f6-449a-8929-366d169f2542",
        "colab": {
          "base_uri": "https://localhost:8080/"
        }
      },
      "outputs": [
        {
          "output_type": "stream",
          "name": "stdout",
          "text": [
            "The number of products that cost more than $10.00 is: 1130\n"
          ]
        }
      ],
      "source": [
        "chipo['item_price'] = chipo['item_price'].apply(lambda x: float(x[1:]))\n",
        "expensive_products = chipo[chipo['item_price'] > 10.00]\n",
        "num_expensive_products = expensive_products.shape[0]\n",
        "print(f\"The number of products that cost more than $10.00 is: {num_expensive_products}\")"
      ]
    },
    {
      "cell_type": "markdown",
      "metadata": {
        "pycharm": {
          "name": "#%% md\n"
        },
        "id": "9hQFYJ0iOGgT"
      },
      "source": [
        "### Step 5. What is the price of each item?\n",
        "###### print a data frame with only two columns item_name and item_price"
      ]
    },
    {
      "cell_type": "code",
      "execution_count": 6,
      "metadata": {
        "pycharm": {
          "name": "#%%\n"
        },
        "id": "3joB_AwfOGgU",
        "outputId": "78d9b7c1-c365-41fe-9f5f-1b23698f1c26",
        "colab": {
          "base_uri": "https://localhost:8080/"
        }
      },
      "outputs": [
        {
          "output_type": "stream",
          "name": "stdout",
          "text": [
            "                                  item_name  item_price\n",
            "0              Chips and Fresh Tomato Salsa        2.39\n",
            "1                                      Izze        3.39\n",
            "2                          Nantucket Nectar        3.39\n",
            "3     Chips and Tomatillo-Green Chili Salsa        2.39\n",
            "4                              Chicken Bowl       16.98\n",
            "...                                     ...         ...\n",
            "4237                    Chips and Guacamole        8.50\n",
            "4354                       Steak Soft Tacos       18.50\n",
            "4489                    Chips and Guacamole       17.80\n",
            "4509                                  Chips        1.99\n",
            "4510                          Barbacoa Bowl       11.49\n",
            "\n",
            "[209 rows x 2 columns]\n"
          ]
        }
      ],
      "source": [
        "item_prices_df = chipo[['item_name', 'item_price']].drop_duplicates()\n",
        "print(item_prices_df)"
      ]
    },
    {
      "cell_type": "markdown",
      "metadata": {
        "pycharm": {
          "name": "#%% md\n"
        },
        "id": "U-QfWXIyOGgU"
      },
      "source": [
        "### Step 6. Sort by the name of the item"
      ]
    },
    {
      "cell_type": "code",
      "execution_count": 7,
      "metadata": {
        "pycharm": {
          "name": "#%%\n"
        },
        "id": "plR-GGApOGgU",
        "outputId": "49b6ee84-1bc3-46fb-8473-8d8be9a22cf9",
        "colab": {
          "base_uri": "https://localhost:8080/"
        }
      },
      "outputs": [
        {
          "output_type": "stream",
          "name": "stdout",
          "text": [
            "              item_name  item_price\n",
            "3389  6 Pack Soft Drink       12.98\n",
            "298   6 Pack Soft Drink        6.49\n",
            "4510      Barbacoa Bowl       11.49\n",
            "3195      Barbacoa Bowl        8.69\n",
            "95        Barbacoa Bowl        9.25\n",
            "...                 ...         ...\n",
            "186   Veggie Salad Bowl       11.25\n",
            "3889  Veggie Soft Tacos       16.98\n",
            "738   Veggie Soft Tacos       11.25\n",
            "781   Veggie Soft Tacos        8.75\n",
            "1395  Veggie Soft Tacos        8.49\n",
            "\n",
            "[209 rows x 2 columns]\n"
          ]
        }
      ],
      "source": [
        "\n",
        "sorted_item_prices_df = item_prices_df.sort_values(by='item_name')\n",
        "print(sorted_item_prices_df)"
      ]
    },
    {
      "cell_type": "markdown",
      "metadata": {
        "pycharm": {
          "name": "#%% md\n"
        },
        "id": "mFJDLzPQOGgU"
      },
      "source": [
        "### Step 7. What was the quantity of the most expensive item ordered?"
      ]
    },
    {
      "cell_type": "code",
      "execution_count": 8,
      "metadata": {
        "pycharm": {
          "name": "#%%\n"
        },
        "id": "E5aPFo6ZOGgV",
        "outputId": "8f6dec5d-d787-4dd5-967d-c5d67f5c021d",
        "colab": {
          "base_uri": "https://localhost:8080/"
        }
      },
      "outputs": [
        {
          "output_type": "stream",
          "name": "stdout",
          "text": [
            "The quantity of the most expensive item ordered is: 15\n"
          ]
        }
      ],
      "source": [
        "\n",
        "most_expensive_item = chipo.loc[chipo['item_price'].idxmax()]\n",
        "quantity_of_most_expensive = most_expensive_item['quantity']\n",
        "print(f\"The quantity of the most expensive item ordered is: {quantity_of_most_expensive}\")"
      ]
    },
    {
      "cell_type": "markdown",
      "metadata": {
        "pycharm": {
          "name": "#%% md\n"
        },
        "id": "Nws2p2gdOGgV"
      },
      "source": [
        "### Step 8. How many times was a Veggie Salad Bowl ordered?"
      ]
    },
    {
      "cell_type": "code",
      "execution_count": 9,
      "metadata": {
        "pycharm": {
          "name": "#%%\n"
        },
        "id": "6D8BUqpWOGgV",
        "outputId": "ed23ce22-dbff-41d8-8d5f-7b9db5ba84e1",
        "colab": {
          "base_uri": "https://localhost:8080/"
        }
      },
      "outputs": [
        {
          "output_type": "stream",
          "name": "stdout",
          "text": [
            "The number of times a Veggie Salad Bowl was ordered is: 18\n"
          ]
        }
      ],
      "source": [
        "veggie_salad_orders = chipo[chipo['item_name'] == 'Veggie Salad Bowl']\n",
        "num_veggie_salad_orders = veggie_salad_orders['quantity'].sum()\n",
        "print(f\"The number of times a Veggie Salad Bowl was ordered is: {num_veggie_salad_orders}\")\n"
      ]
    },
    {
      "cell_type": "markdown",
      "metadata": {
        "pycharm": {
          "name": "#%% md\n"
        },
        "id": "GUtsCHm0OGgV"
      },
      "source": [
        "### Step 9. How many times did someone order more than one Canned Soda?"
      ]
    },
    {
      "cell_type": "code",
      "execution_count": 10,
      "metadata": {
        "pycharm": {
          "name": "#%%\n"
        },
        "id": "-3WJqVlNOGgW",
        "outputId": "8cea6a2d-5298-45db-b64a-9797a35b7088",
        "colab": {
          "base_uri": "https://localhost:8080/"
        }
      },
      "outputs": [
        {
          "output_type": "stream",
          "name": "stdout",
          "text": [
            "The number of times more than one Canned Soda was ordered is: 20\n"
          ]
        }
      ],
      "source": [
        "canned_soda_orders = chipo[(chipo['item_name'] == 'Canned Soda') & (chipo['quantity'] > 1)]\n",
        "num_multi_canned_soda_orders = canned_soda_orders.shape[0]\n",
        "print(f\"The number of times more than one Canned Soda was ordered is: {num_multi_canned_soda_orders}\")"
      ]
    }
  ],
  "metadata": {
    "kernelspec": {
      "display_name": "Python 2",
      "language": "python",
      "name": "python2"
    },
    "language_info": {
      "codemirror_mode": {
        "name": "ipython",
        "version": 2
      },
      "file_extension": ".py",
      "mimetype": "text/x-python",
      "name": "python",
      "nbconvert_exporter": "python",
      "pygments_lexer": "ipython2",
      "version": "2.7.11"
    },
    "colab": {
      "provenance": [],
      "include_colab_link": true
    }
  },
  "nbformat": 4,
  "nbformat_minor": 0
}