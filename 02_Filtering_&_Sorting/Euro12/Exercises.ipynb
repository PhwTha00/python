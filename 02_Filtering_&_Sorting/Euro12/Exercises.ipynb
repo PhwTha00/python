{
  "cells": [
    {
      "cell_type": "markdown",
      "metadata": {
        "id": "view-in-github",
        "colab_type": "text"
      },
      "source": [
        "<a href=\"https://colab.research.google.com/github/PhwTha00/python/blob/main/02_Filtering_%26_Sorting/Euro12/Exercises.ipynb\" target=\"_parent\"><img src=\"https://colab.research.google.com/assets/colab-badge.svg\" alt=\"Open In Colab\"/></a>"
      ]
    },
    {
      "cell_type": "markdown",
      "metadata": {
        "pycharm": {
          "name": "#%% md\n"
        },
        "id": "TQDIWMlGfiFp"
      },
      "source": [
        "# Ex2 - Filtering and Sorting Data"
      ]
    },
    {
      "cell_type": "markdown",
      "metadata": {
        "pycharm": {
          "name": "#%% md\n"
        },
        "id": "T-vW2jg2fiFq"
      },
      "source": [
        "This time we are going to pull data directly from the internet.\n",
        "\n",
        "### Step 1. Import the necessary libraries"
      ]
    },
    {
      "cell_type": "code",
      "execution_count": 1,
      "metadata": {
        "pycharm": {
          "name": "#%%\n"
        },
        "id": "vzEZSy2EfiFq"
      },
      "outputs": [],
      "source": [
        "import pandas as pd\n"
      ]
    },
    {
      "cell_type": "markdown",
      "metadata": {
        "pycharm": {
          "name": "#%% md\n"
        },
        "id": "FUA1UaJWfiFr"
      },
      "source": [
        "### Step 2. Import the dataset from this [address](https://raw.githubusercontent.com/thieu1995/csv-files/main/data/pandas/Euro_2012_stats_TEAM.csv)."
      ]
    },
    {
      "cell_type": "code",
      "source": [
        "df = pd.read_csv(\"https://raw.githubusercontent.com/thieu1995/csv-files/main/data/pandas/Euro_2012_stats_TEAM.csv\")\n",
        "print(df)"
      ],
      "metadata": {
        "id": "EMwwC5xqf82P",
        "outputId": "5ae0e918-1ca7-4d8e-b95a-d0a246735b9f",
        "colab": {
          "base_uri": "https://localhost:8080/"
        }
      },
      "execution_count": 4,
      "outputs": [
        {
          "output_type": "stream",
          "name": "stdout",
          "text": [
            "                   Team  Goals  Shots on target  Shots off target  \\\n",
            "0               Croatia      4               13                12   \n",
            "1        Czech Republic      4               13                18   \n",
            "2               Denmark      4               10                10   \n",
            "3               England      5               11                18   \n",
            "4                France      3               22                24   \n",
            "5               Germany     10               32                32   \n",
            "6                Greece      5                8                18   \n",
            "7                 Italy      6               34                45   \n",
            "8           Netherlands      2               12                36   \n",
            "9                Poland      2               15                23   \n",
            "10             Portugal      6               22                42   \n",
            "11  Republic of Ireland      1                7                12   \n",
            "12               Russia      5                9                31   \n",
            "13                Spain     12               42                33   \n",
            "14               Sweden      5               17                19   \n",
            "15              Ukraine      2                7                26   \n",
            "\n",
            "   Shooting Accuracy % Goals-to-shots  Total shots (inc. Blocked)  \\\n",
            "0              51.9%            16.0%                          32   \n",
            "1              41.9%            12.9%                          39   \n",
            "2              50.0%            20.0%                          27   \n",
            "3              50.0%            17.2%                          40   \n",
            "4              37.9%             6.5%                          65   \n",
            "5              47.8%            15.6%                          80   \n",
            "6              30.7%            19.2%                          32   \n",
            "7              43.0%             7.5%                         110   \n",
            "8              25.0%             4.1%                          60   \n",
            "9              39.4%             5.2%                          48   \n",
            "10             34.3%             9.3%                          82   \n",
            "11             36.8%             5.2%                          28   \n",
            "12             22.5%            12.5%                          59   \n",
            "13             55.9%            16.0%                         100   \n",
            "14             47.2%            13.8%                          39   \n",
            "15             21.2%             6.0%                          38   \n",
            "\n",
            "    Hit Woodwork  Penalty goals  Penalties not scored  ...  Saves made  \\\n",
            "0              0              0                     0  ...          13   \n",
            "1              0              0                     0  ...           9   \n",
            "2              1              0                     0  ...          10   \n",
            "3              0              0                     0  ...          22   \n",
            "4              1              0                     0  ...           6   \n",
            "5              2              1                     0  ...          10   \n",
            "6              1              1                     1  ...          13   \n",
            "7              2              0                     0  ...          20   \n",
            "8              2              0                     0  ...          12   \n",
            "9              0              0                     0  ...           6   \n",
            "10             6              0                     0  ...          10   \n",
            "11             0              0                     0  ...          17   \n",
            "12             2              0                     0  ...          10   \n",
            "13             0              1                     0  ...          15   \n",
            "14             3              0                     0  ...           8   \n",
            "15             0              0                     0  ...          13   \n",
            "\n",
            "    Saves-to-shots ratio  Fouls Won Fouls Conceded  Offsides  Yellow Cards  \\\n",
            "0                  81.3%         41             62         2             9   \n",
            "1                  60.1%         53             73         8             7   \n",
            "2                  66.7%         25             38         8             4   \n",
            "3                  88.1%         43             45         6             5   \n",
            "4                  54.6%         36             51         5             6   \n",
            "5                  62.6%         63             49        12             4   \n",
            "6                  65.1%         67             48        12             9   \n",
            "7                  74.1%        101             89        16            16   \n",
            "8                  70.6%         35             30         3             5   \n",
            "9                  66.7%         48             56         3             7   \n",
            "10                 71.5%         73             90        10            12   \n",
            "11                 65.4%         43             51        11             6   \n",
            "12                 77.0%         34             43         4             6   \n",
            "13                 93.8%        102             83        19            11   \n",
            "14                 61.6%         35             51         7             7   \n",
            "15                 76.5%         48             31         4             5   \n",
            "\n",
            "    Red Cards  Subs on  Subs off  Players Used  \n",
            "0           0        9         9            16  \n",
            "1           0       11        11            19  \n",
            "2           0        7         7            15  \n",
            "3           0       11        11            16  \n",
            "4           0       11        11            19  \n",
            "5           0       15        15            17  \n",
            "6           1       12        12            20  \n",
            "7           0       18        18            19  \n",
            "8           0        7         7            15  \n",
            "9           1        7         7            17  \n",
            "10          0       14        14            16  \n",
            "11          1       10        10            17  \n",
            "12          0        7         7            16  \n",
            "13          0       17        17            18  \n",
            "14          0        9         9            18  \n",
            "15          0        9         9            18  \n",
            "\n",
            "[16 rows x 35 columns]\n"
          ]
        }
      ]
    },
    {
      "cell_type": "markdown",
      "metadata": {
        "pycharm": {
          "name": "#%% md\n"
        },
        "id": "VAxd1ETMfiFr"
      },
      "source": [
        "### Step 3. Assign it to a variable called euro12."
      ]
    },
    {
      "cell_type": "code",
      "execution_count": 5,
      "metadata": {
        "pycharm": {
          "name": "#%%\n"
        },
        "id": "7dTkgvmSfiFr",
        "outputId": "974578e0-bbc1-480b-c645-8cee04f4040e",
        "colab": {
          "base_uri": "https://localhost:8080/"
        }
      },
      "outputs": [
        {
          "output_type": "stream",
          "name": "stdout",
          "text": [
            "                   Team  Goals  Shots on target  Shots off target  \\\n",
            "0               Croatia      4               13                12   \n",
            "1        Czech Republic      4               13                18   \n",
            "2               Denmark      4               10                10   \n",
            "3               England      5               11                18   \n",
            "4                France      3               22                24   \n",
            "5               Germany     10               32                32   \n",
            "6                Greece      5                8                18   \n",
            "7                 Italy      6               34                45   \n",
            "8           Netherlands      2               12                36   \n",
            "9                Poland      2               15                23   \n",
            "10             Portugal      6               22                42   \n",
            "11  Republic of Ireland      1                7                12   \n",
            "12               Russia      5                9                31   \n",
            "13                Spain     12               42                33   \n",
            "14               Sweden      5               17                19   \n",
            "15              Ukraine      2                7                26   \n",
            "\n",
            "   Shooting Accuracy % Goals-to-shots  Total shots (inc. Blocked)  \\\n",
            "0              51.9%            16.0%                          32   \n",
            "1              41.9%            12.9%                          39   \n",
            "2              50.0%            20.0%                          27   \n",
            "3              50.0%            17.2%                          40   \n",
            "4              37.9%             6.5%                          65   \n",
            "5              47.8%            15.6%                          80   \n",
            "6              30.7%            19.2%                          32   \n",
            "7              43.0%             7.5%                         110   \n",
            "8              25.0%             4.1%                          60   \n",
            "9              39.4%             5.2%                          48   \n",
            "10             34.3%             9.3%                          82   \n",
            "11             36.8%             5.2%                          28   \n",
            "12             22.5%            12.5%                          59   \n",
            "13             55.9%            16.0%                         100   \n",
            "14             47.2%            13.8%                          39   \n",
            "15             21.2%             6.0%                          38   \n",
            "\n",
            "    Hit Woodwork  Penalty goals  Penalties not scored  ...  Saves made  \\\n",
            "0              0              0                     0  ...          13   \n",
            "1              0              0                     0  ...           9   \n",
            "2              1              0                     0  ...          10   \n",
            "3              0              0                     0  ...          22   \n",
            "4              1              0                     0  ...           6   \n",
            "5              2              1                     0  ...          10   \n",
            "6              1              1                     1  ...          13   \n",
            "7              2              0                     0  ...          20   \n",
            "8              2              0                     0  ...          12   \n",
            "9              0              0                     0  ...           6   \n",
            "10             6              0                     0  ...          10   \n",
            "11             0              0                     0  ...          17   \n",
            "12             2              0                     0  ...          10   \n",
            "13             0              1                     0  ...          15   \n",
            "14             3              0                     0  ...           8   \n",
            "15             0              0                     0  ...          13   \n",
            "\n",
            "    Saves-to-shots ratio  Fouls Won Fouls Conceded  Offsides  Yellow Cards  \\\n",
            "0                  81.3%         41             62         2             9   \n",
            "1                  60.1%         53             73         8             7   \n",
            "2                  66.7%         25             38         8             4   \n",
            "3                  88.1%         43             45         6             5   \n",
            "4                  54.6%         36             51         5             6   \n",
            "5                  62.6%         63             49        12             4   \n",
            "6                  65.1%         67             48        12             9   \n",
            "7                  74.1%        101             89        16            16   \n",
            "8                  70.6%         35             30         3             5   \n",
            "9                  66.7%         48             56         3             7   \n",
            "10                 71.5%         73             90        10            12   \n",
            "11                 65.4%         43             51        11             6   \n",
            "12                 77.0%         34             43         4             6   \n",
            "13                 93.8%        102             83        19            11   \n",
            "14                 61.6%         35             51         7             7   \n",
            "15                 76.5%         48             31         4             5   \n",
            "\n",
            "    Red Cards  Subs on  Subs off  Players Used  \n",
            "0           0        9         9            16  \n",
            "1           0       11        11            19  \n",
            "2           0        7         7            15  \n",
            "3           0       11        11            16  \n",
            "4           0       11        11            19  \n",
            "5           0       15        15            17  \n",
            "6           1       12        12            20  \n",
            "7           0       18        18            19  \n",
            "8           0        7         7            15  \n",
            "9           1        7         7            17  \n",
            "10          0       14        14            16  \n",
            "11          1       10        10            17  \n",
            "12          0        7         7            16  \n",
            "13          0       17        17            18  \n",
            "14          0        9         9            18  \n",
            "15          0        9         9            18  \n",
            "\n",
            "[16 rows x 35 columns]\n"
          ]
        }
      ],
      "source": [
        "euro12 = df\n",
        "print(euro12)"
      ]
    },
    {
      "cell_type": "markdown",
      "metadata": {
        "pycharm": {
          "name": "#%% md\n"
        },
        "id": "GHWCcF_zfiFr"
      },
      "source": [
        "### Step 4. Select only the Goal column."
      ]
    },
    {
      "cell_type": "code",
      "execution_count": 7,
      "metadata": {
        "pycharm": {
          "name": "#%%\n"
        },
        "id": "4mQEWK8xfiFr",
        "outputId": "a9594731-36cc-42dd-9d88-ea4087e008a2",
        "colab": {
          "base_uri": "https://localhost:8080/"
        }
      },
      "outputs": [
        {
          "output_type": "stream",
          "name": "stdout",
          "text": [
            "0      4\n",
            "1      4\n",
            "2      4\n",
            "3      5\n",
            "4      3\n",
            "5     10\n",
            "6      5\n",
            "7      6\n",
            "8      2\n",
            "9      2\n",
            "10     6\n",
            "11     1\n",
            "12     5\n",
            "13    12\n",
            "14     5\n",
            "15     2\n",
            "Name: Goals, dtype: int64\n"
          ]
        }
      ],
      "source": [
        "goals = euro12['Goals']\n",
        "print(goals)"
      ]
    },
    {
      "cell_type": "markdown",
      "metadata": {
        "pycharm": {
          "name": "#%% md\n"
        },
        "id": "tTv9d6ILfiFr"
      },
      "source": [
        "### Step 5. How many team participated in the Euro2012?"
      ]
    },
    {
      "cell_type": "code",
      "execution_count": 13,
      "metadata": {
        "pycharm": {
          "name": "#%%\n"
        },
        "id": "yqnwSnA3fiFr",
        "outputId": "f227e193-df06-432f-d69f-27baf50cafa5",
        "colab": {
          "base_uri": "https://localhost:8080/"
        }
      },
      "outputs": [
        {
          "output_type": "stream",
          "name": "stdout",
          "text": [
            "Number of teams participated in Euro 2012:\n",
            "16\n"
          ]
        }
      ],
      "source": [
        "num_teams = euro12['Team'].nunique()\n",
        "print(\"Number of teams participated in Euro 2012:\")\n",
        "print(num_teams)"
      ]
    },
    {
      "cell_type": "markdown",
      "metadata": {
        "pycharm": {
          "name": "#%% md\n"
        },
        "id": "Vefo0YM_fiFs"
      },
      "source": [
        "### Step 6. What is the number of columns in the dataset?"
      ]
    },
    {
      "cell_type": "code",
      "execution_count": 15,
      "metadata": {
        "pycharm": {
          "name": "#%%\n"
        },
        "id": "96Mry7M5fiFs",
        "outputId": "20ba2769-5ac8-473f-e20d-2c41b2698176",
        "colab": {
          "base_uri": "https://localhost:8080/"
        }
      },
      "outputs": [
        {
          "output_type": "stream",
          "name": "stdout",
          "text": [
            "Number of columns in the dataset:\n",
            "35\n"
          ]
        }
      ],
      "source": [
        "num_columns = len(euro12.columns)\n",
        "print(\"Number of columns in the dataset:\")\n",
        "print(num_columns)"
      ]
    },
    {
      "cell_type": "markdown",
      "metadata": {
        "pycharm": {
          "name": "#%% md\n"
        },
        "id": "HJD2huMLfiFs"
      },
      "source": [
        "### Step 7. View only the columns Team, Yellow Cards and Red Cards and assign them to a dataframe called discipline"
      ]
    },
    {
      "cell_type": "code",
      "execution_count": 16,
      "metadata": {
        "pycharm": {
          "name": "#%%\n"
        },
        "id": "kb5lQ7C2fiFs",
        "outputId": "2bd46ba7-8c73-494a-d4b1-1c2d4c5be45c",
        "colab": {
          "base_uri": "https://localhost:8080/"
        }
      },
      "outputs": [
        {
          "output_type": "stream",
          "name": "stdout",
          "text": [
            "DataFrame 'discipline' with Team, Yellow Cards, and Red Cards:\n",
            "                   Team  Yellow Cards  Red Cards\n",
            "0               Croatia             9          0\n",
            "1        Czech Republic             7          0\n",
            "2               Denmark             4          0\n",
            "3               England             5          0\n",
            "4                France             6          0\n",
            "5               Germany             4          0\n",
            "6                Greece             9          1\n",
            "7                 Italy            16          0\n",
            "8           Netherlands             5          0\n",
            "9                Poland             7          1\n",
            "10             Portugal            12          0\n",
            "11  Republic of Ireland             6          1\n",
            "12               Russia             6          0\n",
            "13                Spain            11          0\n",
            "14               Sweden             7          0\n",
            "15              Ukraine             5          0\n"
          ]
        }
      ],
      "source": [
        "discipline = euro12[['Team', 'Yellow Cards', 'Red Cards']]\n",
        "print(\"DataFrame 'discipline' with Team, Yellow Cards, and Red Cards:\")\n",
        "print(discipline)"
      ]
    },
    {
      "cell_type": "markdown",
      "metadata": {
        "pycharm": {
          "name": "#%% md\n"
        },
        "id": "l17z3FFxfiFs"
      },
      "source": [
        "### Step 8. Sort the teams by Red Cards, then to Yellow Cards"
      ]
    },
    {
      "cell_type": "code",
      "execution_count": 17,
      "metadata": {
        "scrolled": true,
        "pycharm": {
          "name": "#%%\n"
        },
        "id": "lYbYPAiDfiFs",
        "outputId": "e34787ec-885d-46e4-e126-86422a70f3dd",
        "colab": {
          "base_uri": "https://localhost:8080/"
        }
      },
      "outputs": [
        {
          "output_type": "stream",
          "name": "stdout",
          "text": [
            "Sorted discipline DataFrame by Red Cards, then Yellow Cards:\n",
            "                   Team  Yellow Cards  Red Cards\n",
            "6                Greece             9          1\n",
            "9                Poland             7          1\n",
            "11  Republic of Ireland             6          1\n",
            "7                 Italy            16          0\n",
            "10             Portugal            12          0\n",
            "13                Spain            11          0\n",
            "0               Croatia             9          0\n",
            "1        Czech Republic             7          0\n",
            "14               Sweden             7          0\n",
            "4                France             6          0\n",
            "12               Russia             6          0\n",
            "3               England             5          0\n",
            "8           Netherlands             5          0\n",
            "15              Ukraine             5          0\n",
            "2               Denmark             4          0\n",
            "5               Germany             4          0\n"
          ]
        }
      ],
      "source": [
        "discipline_sorted = discipline.sort_values(by=['Red Cards', 'Yellow Cards'], ascending=False)\n",
        "print(\"Sorted discipline DataFrame by Red Cards, then Yellow Cards:\")\n",
        "print(discipline_sorted)"
      ]
    },
    {
      "cell_type": "markdown",
      "metadata": {
        "pycharm": {
          "name": "#%% md\n"
        },
        "id": "eunahQbLfiFs"
      },
      "source": [
        "### Step 9. Calculate the mean Yellow Cards given per Team"
      ]
    },
    {
      "cell_type": "code",
      "execution_count": 18,
      "metadata": {
        "pycharm": {
          "name": "#%%\n"
        },
        "id": "20Q5q_tJfiFs",
        "outputId": "b3f6d2ce-6034-43f7-8625-2d83c0935da7",
        "colab": {
          "base_uri": "https://localhost:8080/"
        }
      },
      "outputs": [
        {
          "output_type": "stream",
          "name": "stdout",
          "text": [
            " Mean Yellow Cards given per Team:\n",
            "7.4375\n"
          ]
        }
      ],
      "source": [
        "mean_yellow_cards = discipline['Yellow Cards'].mean()\n",
        "print(\" Mean Yellow Cards given per Team:\")\n",
        "print(mean_yellow_cards)"
      ]
    },
    {
      "cell_type": "markdown",
      "metadata": {
        "pycharm": {
          "name": "#%% md\n"
        },
        "id": "SvKF-sbmfiFs"
      },
      "source": [
        "### Step 10. Filter teams that scored more than 6 goals"
      ]
    },
    {
      "cell_type": "code",
      "execution_count": 19,
      "metadata": {
        "pycharm": {
          "name": "#%%\n"
        },
        "id": "vJgEet2lfiFs",
        "outputId": "8c7f901a-b8f9-4fe7-f1e0-2d250e1befdd",
        "colab": {
          "base_uri": "https://localhost:8080/"
        }
      },
      "outputs": [
        {
          "output_type": "stream",
          "name": "stdout",
          "text": [
            "Teams that scored more than 6 goals:\n",
            "       Team  Goals  Shots on target  Shots off target Shooting Accuracy  \\\n",
            "5   Germany     10               32                32             47.8%   \n",
            "13    Spain     12               42                33             55.9%   \n",
            "\n",
            "   % Goals-to-shots  Total shots (inc. Blocked)  Hit Woodwork  Penalty goals  \\\n",
            "5             15.6%                          80             2              1   \n",
            "13            16.0%                         100             0              1   \n",
            "\n",
            "    Penalties not scored  ...  Saves made  Saves-to-shots ratio  Fouls Won  \\\n",
            "5                      0  ...          10                 62.6%         63   \n",
            "13                     0  ...          15                 93.8%        102   \n",
            "\n",
            "   Fouls Conceded  Offsides  Yellow Cards  Red Cards  Subs on  Subs off  \\\n",
            "5              49        12             4          0       15        15   \n",
            "13             83        19            11          0       17        17   \n",
            "\n",
            "    Players Used  \n",
            "5             17  \n",
            "13            18  \n",
            "\n",
            "[2 rows x 35 columns]\n"
          ]
        }
      ],
      "source": [
        "high_goal_teams = euro12[euro12['Goals'] > 6]\n",
        "print(\"Teams that scored more than 6 goals:\")\n",
        "print(high_goal_teams)"
      ]
    },
    {
      "cell_type": "markdown",
      "metadata": {
        "pycharm": {
          "name": "#%% md\n"
        },
        "id": "C4356Vs3fiFt"
      },
      "source": [
        "### Step 11. Select the teams that start with G"
      ]
    },
    {
      "cell_type": "code",
      "execution_count": 20,
      "metadata": {
        "pycharm": {
          "name": "#%%\n"
        },
        "id": "EnGXZrInfiFt",
        "outputId": "291d1009-7c3f-4608-c75e-2d10cd00728d",
        "colab": {
          "base_uri": "https://localhost:8080/"
        }
      },
      "outputs": [
        {
          "output_type": "stream",
          "name": "stdout",
          "text": [
            "Teams that start with G:\n",
            "      Team  Goals  Shots on target  Shots off target Shooting Accuracy  \\\n",
            "5  Germany     10               32                32             47.8%   \n",
            "6   Greece      5                8                18             30.7%   \n",
            "\n",
            "  % Goals-to-shots  Total shots (inc. Blocked)  Hit Woodwork  Penalty goals  \\\n",
            "5            15.6%                          80             2              1   \n",
            "6            19.2%                          32             1              1   \n",
            "\n",
            "   Penalties not scored  ...  Saves made  Saves-to-shots ratio  Fouls Won  \\\n",
            "5                     0  ...          10                 62.6%         63   \n",
            "6                     1  ...          13                 65.1%         67   \n",
            "\n",
            "  Fouls Conceded  Offsides  Yellow Cards  Red Cards  Subs on  Subs off  \\\n",
            "5             49        12             4          0       15        15   \n",
            "6             48        12             9          1       12        12   \n",
            "\n",
            "   Players Used  \n",
            "5            17  \n",
            "6            20  \n",
            "\n",
            "[2 rows x 35 columns]\n"
          ]
        }
      ],
      "source": [
        "g_teams = euro12[euro12['Team'].str.startswith('G')]\n",
        "print(\"Teams that start with G:\")\n",
        "print(g_teams)"
      ]
    },
    {
      "cell_type": "markdown",
      "metadata": {
        "pycharm": {
          "name": "#%% md\n"
        },
        "id": "KN8Q0E7kfiFt"
      },
      "source": [
        "### Step 12. Select the first 7 columns"
      ]
    },
    {
      "cell_type": "code",
      "execution_count": 21,
      "metadata": {
        "pycharm": {
          "name": "#%%\n"
        },
        "id": "Q-CjLTgTfiFt",
        "outputId": "f977866e-bbdd-4fb6-bf49-08e4d351df8d",
        "colab": {
          "base_uri": "https://localhost:8080/"
        }
      },
      "outputs": [
        {
          "output_type": "stream",
          "name": "stdout",
          "text": [
            "DataFrame with the first 7 columns:\n",
            "                   Team  Goals  Shots on target  Shots off target  \\\n",
            "0               Croatia      4               13                12   \n",
            "1        Czech Republic      4               13                18   \n",
            "2               Denmark      4               10                10   \n",
            "3               England      5               11                18   \n",
            "4                France      3               22                24   \n",
            "5               Germany     10               32                32   \n",
            "6                Greece      5                8                18   \n",
            "7                 Italy      6               34                45   \n",
            "8           Netherlands      2               12                36   \n",
            "9                Poland      2               15                23   \n",
            "10             Portugal      6               22                42   \n",
            "11  Republic of Ireland      1                7                12   \n",
            "12               Russia      5                9                31   \n",
            "13                Spain     12               42                33   \n",
            "14               Sweden      5               17                19   \n",
            "15              Ukraine      2                7                26   \n",
            "\n",
            "   Shooting Accuracy % Goals-to-shots  Total shots (inc. Blocked)  \n",
            "0              51.9%            16.0%                          32  \n",
            "1              41.9%            12.9%                          39  \n",
            "2              50.0%            20.0%                          27  \n",
            "3              50.0%            17.2%                          40  \n",
            "4              37.9%             6.5%                          65  \n",
            "5              47.8%            15.6%                          80  \n",
            "6              30.7%            19.2%                          32  \n",
            "7              43.0%             7.5%                         110  \n",
            "8              25.0%             4.1%                          60  \n",
            "9              39.4%             5.2%                          48  \n",
            "10             34.3%             9.3%                          82  \n",
            "11             36.8%             5.2%                          28  \n",
            "12             22.5%            12.5%                          59  \n",
            "13             55.9%            16.0%                         100  \n",
            "14             47.2%            13.8%                          39  \n",
            "15             21.2%             6.0%                          38  \n"
          ]
        }
      ],
      "source": [
        "first_seven_columns = euro12.iloc[:, :7]\n",
        "print(\"DataFrame with the first 7 columns:\")\n",
        "print(first_seven_columns)\n"
      ]
    },
    {
      "cell_type": "markdown",
      "metadata": {
        "pycharm": {
          "name": "#%% md\n"
        },
        "id": "SIYSzGpVfiFt"
      },
      "source": [
        "### Step 13. Select all columns except the last 3."
      ]
    },
    {
      "cell_type": "code",
      "execution_count": 22,
      "metadata": {
        "pycharm": {
          "name": "#%%\n"
        },
        "id": "4kTZUMArfiFt",
        "outputId": "8c86489c-cabc-48be-fd7a-e591b28671b9",
        "colab": {
          "base_uri": "https://localhost:8080/"
        }
      },
      "outputs": [
        {
          "output_type": "stream",
          "name": "stdout",
          "text": [
            "DataFrame with all columns except the last 3:\n",
            "                   Team  Goals  Shots on target  Shots off target  \\\n",
            "0               Croatia      4               13                12   \n",
            "1        Czech Republic      4               13                18   \n",
            "2               Denmark      4               10                10   \n",
            "3               England      5               11                18   \n",
            "4                France      3               22                24   \n",
            "5               Germany     10               32                32   \n",
            "6                Greece      5                8                18   \n",
            "7                 Italy      6               34                45   \n",
            "8           Netherlands      2               12                36   \n",
            "9                Poland      2               15                23   \n",
            "10             Portugal      6               22                42   \n",
            "11  Republic of Ireland      1                7                12   \n",
            "12               Russia      5                9                31   \n",
            "13                Spain     12               42                33   \n",
            "14               Sweden      5               17                19   \n",
            "15              Ukraine      2                7                26   \n",
            "\n",
            "   Shooting Accuracy % Goals-to-shots  Total shots (inc. Blocked)  \\\n",
            "0              51.9%            16.0%                          32   \n",
            "1              41.9%            12.9%                          39   \n",
            "2              50.0%            20.0%                          27   \n",
            "3              50.0%            17.2%                          40   \n",
            "4              37.9%             6.5%                          65   \n",
            "5              47.8%            15.6%                          80   \n",
            "6              30.7%            19.2%                          32   \n",
            "7              43.0%             7.5%                         110   \n",
            "8              25.0%             4.1%                          60   \n",
            "9              39.4%             5.2%                          48   \n",
            "10             34.3%             9.3%                          82   \n",
            "11             36.8%             5.2%                          28   \n",
            "12             22.5%            12.5%                          59   \n",
            "13             55.9%            16.0%                         100   \n",
            "14             47.2%            13.8%                          39   \n",
            "15             21.2%             6.0%                          38   \n",
            "\n",
            "    Hit Woodwork  Penalty goals  Penalties not scored  ...  Clean Sheets  \\\n",
            "0              0              0                     0  ...             0   \n",
            "1              0              0                     0  ...             1   \n",
            "2              1              0                     0  ...             1   \n",
            "3              0              0                     0  ...             2   \n",
            "4              1              0                     0  ...             1   \n",
            "5              2              1                     0  ...             1   \n",
            "6              1              1                     1  ...             1   \n",
            "7              2              0                     0  ...             2   \n",
            "8              2              0                     0  ...             0   \n",
            "9              0              0                     0  ...             0   \n",
            "10             6              0                     0  ...             2   \n",
            "11             0              0                     0  ...             0   \n",
            "12             2              0                     0  ...             0   \n",
            "13             0              1                     0  ...             5   \n",
            "14             3              0                     0  ...             1   \n",
            "15             0              0                     0  ...             0   \n",
            "\n",
            "    Blocks  Goals conceded Saves made  Saves-to-shots ratio  Fouls Won  \\\n",
            "0       10               3         13                 81.3%         41   \n",
            "1       10               6          9                 60.1%         53   \n",
            "2       10               5         10                 66.7%         25   \n",
            "3       29               3         22                 88.1%         43   \n",
            "4        7               5          6                 54.6%         36   \n",
            "5       11               6         10                 62.6%         63   \n",
            "6       23               7         13                 65.1%         67   \n",
            "7       18               7         20                 74.1%        101   \n",
            "8        9               5         12                 70.6%         35   \n",
            "9        8               3          6                 66.7%         48   \n",
            "10      11               4         10                 71.5%         73   \n",
            "11      23               9         17                 65.4%         43   \n",
            "12       8               3         10                 77.0%         34   \n",
            "13       8               1         15                 93.8%        102   \n",
            "14      12               5          8                 61.6%         35   \n",
            "15       4               4         13                 76.5%         48   \n",
            "\n",
            "    Fouls Conceded  Offsides  Yellow Cards  Red Cards  \n",
            "0               62         2             9          0  \n",
            "1               73         8             7          0  \n",
            "2               38         8             4          0  \n",
            "3               45         6             5          0  \n",
            "4               51         5             6          0  \n",
            "5               49        12             4          0  \n",
            "6               48        12             9          1  \n",
            "7               89        16            16          0  \n",
            "8               30         3             5          0  \n",
            "9               56         3             7          1  \n",
            "10              90        10            12          0  \n",
            "11              51        11             6          1  \n",
            "12              43         4             6          0  \n",
            "13              83        19            11          0  \n",
            "14              51         7             7          0  \n",
            "15              31         4             5          0  \n",
            "\n",
            "[16 rows x 32 columns]\n"
          ]
        }
      ],
      "source": [
        "all_except_last_three = euro12.iloc[:, :-3]\n",
        "print(\"DataFrame with all columns except the last 3:\")\n",
        "print(all_except_last_three)"
      ]
    },
    {
      "cell_type": "markdown",
      "metadata": {
        "pycharm": {
          "name": "#%% md\n"
        },
        "id": "Bng-ELIhfiFt"
      },
      "source": [
        "### Step 14. Present only the Shooting Accuracy from England, Italy and Russia"
      ]
    },
    {
      "cell_type": "code",
      "execution_count": 23,
      "metadata": {
        "pycharm": {
          "name": "#%%\n"
        },
        "id": "x-9gjqHEfiFt",
        "outputId": "ad577f6d-8c8a-484c-a3c6-9b6d74472b07",
        "colab": {
          "base_uri": "https://localhost:8080/"
        }
      },
      "outputs": [
        {
          "output_type": "stream",
          "name": "stdout",
          "text": [
            "Shooting Accuracy from England, Italy, and Russia:\n",
            "       Team Shooting Accuracy\n",
            "3   England             50.0%\n",
            "7     Italy             43.0%\n",
            "12   Russia             22.5%\n"
          ]
        }
      ],
      "source": [
        "selected_teams = euro12[euro12['Team'].isin(['England', 'Italy', 'Russia'])]\n",
        "shooting_accuracy = selected_teams[['Team', 'Shooting Accuracy']]\n",
        "print(\"Shooting Accuracy from England, Italy, and Russia:\")\n",
        "print(shooting_accuracy)"
      ]
    }
  ],
  "metadata": {
    "anaconda-cloud": {},
    "kernelspec": {
      "display_name": "Python [default]",
      "language": "python",
      "name": "python2"
    },
    "language_info": {
      "codemirror_mode": {
        "name": "ipython",
        "version": 2
      },
      "file_extension": ".py",
      "mimetype": "text/x-python",
      "name": "python",
      "nbconvert_exporter": "python",
      "pygments_lexer": "ipython2",
      "version": "2.7.12"
    },
    "colab": {
      "provenance": [],
      "include_colab_link": true
    }
  },
  "nbformat": 4,
  "nbformat_minor": 0
}