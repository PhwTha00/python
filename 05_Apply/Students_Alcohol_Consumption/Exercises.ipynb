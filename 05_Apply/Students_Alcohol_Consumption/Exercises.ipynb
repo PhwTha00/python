{
  "cells": [
    {
      "cell_type": "markdown",
      "metadata": {
        "id": "view-in-github",
        "colab_type": "text"
      },
      "source": [
        "<a href=\"https://colab.research.google.com/github/PhwTha00/python/blob/main/05_Apply/Students_Alcohol_Consumption/Exercises.ipynb\" target=\"_parent\"><img src=\"https://colab.research.google.com/assets/colab-badge.svg\" alt=\"Open In Colab\"/></a>"
      ]
    },
    {
      "cell_type": "markdown",
      "metadata": {
        "pycharm": {
          "name": "#%% md\n"
        },
        "id": "ZRgpGKo_n8Va"
      },
      "source": [
        "# Student Alcohol Consumption"
      ]
    },
    {
      "cell_type": "markdown",
      "source": [],
      "metadata": {
        "id": "MA8AIikGoze2"
      }
    },
    {
      "cell_type": "markdown",
      "metadata": {
        "pycharm": {
          "name": "#%% md\n"
        },
        "id": "yU3zOVIDn8Vc"
      },
      "source": [
        "### Introduction:\n",
        "\n",
        "This time you will download a dataset from the UCI.\n",
        "\n",
        "### Step 1. Import the necessary libraries"
      ]
    },
    {
      "cell_type": "code",
      "execution_count": 2,
      "metadata": {
        "pycharm": {
          "name": "#%%\n"
        },
        "id": "_YOH1YC4n8Vd"
      },
      "outputs": [],
      "source": [
        "import pandas as pd"
      ]
    },
    {
      "cell_type": "markdown",
      "metadata": {
        "pycharm": {
          "name": "#%% md\n"
        },
        "id": "zKhWg7oin8Vd"
      },
      "source": [
        "### Step 2. Import the dataset from this [address](https://raw.githubusercontent.com/thieu1995/csv-files/main/data/pandas/student-mat.csv)."
      ]
    },
    {
      "cell_type": "markdown",
      "metadata": {
        "pycharm": {
          "name": "#%% md\n"
        },
        "id": "3sQ6odWmn8Ve"
      },
      "source": [
        "### Step 3. Assign it to a variable called df."
      ]
    },
    {
      "cell_type": "code",
      "execution_count": 6,
      "metadata": {
        "pycharm": {
          "name": "#%%\n"
        },
        "colab": {
          "base_uri": "https://localhost:8080/"
        },
        "id": "NC4mAByBn8Ve",
        "outputId": "ea4383f3-347f-4e31-ecfa-5fca785ed496"
      },
      "outputs": [
        {
          "output_type": "execute_result",
          "data": {
            "text/plain": [
              "<bound method NDFrame.head of     school sex  age address famsize Pstatus  Medu  Fedu      Mjob      Fjob  \\\n",
              "0       GP   F   18       U     GT3       A     4     4   at_home   teacher   \n",
              "1       GP   F   17       U     GT3       T     1     1   at_home     other   \n",
              "2       GP   F   15       U     LE3       T     1     1   at_home     other   \n",
              "3       GP   F   15       U     GT3       T     4     2    health  services   \n",
              "4       GP   F   16       U     GT3       T     3     3     other     other   \n",
              "..     ...  ..  ...     ...     ...     ...   ...   ...       ...       ...   \n",
              "390     MS   M   20       U     LE3       A     2     2  services  services   \n",
              "391     MS   M   17       U     LE3       T     3     1  services  services   \n",
              "392     MS   M   21       R     GT3       T     1     1     other     other   \n",
              "393     MS   M   18       R     LE3       T     3     2  services     other   \n",
              "394     MS   M   19       U     LE3       T     1     1     other   at_home   \n",
              "\n",
              "     ... famrel freetime  goout  Dalc  Walc health absences  G1  G2  G3  \n",
              "0    ...      4        3      4     1     1      3        6   5   6   6  \n",
              "1    ...      5        3      3     1     1      3        4   5   5   6  \n",
              "2    ...      4        3      2     2     3      3       10   7   8  10  \n",
              "3    ...      3        2      2     1     1      5        2  15  14  15  \n",
              "4    ...      4        3      2     1     2      5        4   6  10  10  \n",
              "..   ...    ...      ...    ...   ...   ...    ...      ...  ..  ..  ..  \n",
              "390  ...      5        5      4     4     5      4       11   9   9   9  \n",
              "391  ...      2        4      5     3     4      2        3  14  16  16  \n",
              "392  ...      5        5      3     3     3      3        3  10   8   7  \n",
              "393  ...      4        4      1     3     4      5        0  11  12  10  \n",
              "394  ...      3        2      3     3     3      5        5   8   9   9  \n",
              "\n",
              "[395 rows x 33 columns]>"
            ]
          },
          "metadata": {},
          "execution_count": 6
        }
      ],
      "source": [
        "df = pd.read_csv(\"https://raw.githubusercontent.com/thieu1995/csv-files/main/data/pandas/student-mat.csv\")\n",
        "df.head"
      ]
    },
    {
      "cell_type": "markdown",
      "metadata": {
        "pycharm": {
          "name": "#%% md\n"
        },
        "id": "DZ6iCkVdn8Ve"
      },
      "source": [
        "### Step 4. For the purpose of this exercise slice the dataframe from 'school' until the 'guardian' column"
      ]
    },
    {
      "cell_type": "code",
      "execution_count": 7,
      "metadata": {
        "pycharm": {
          "name": "#%%\n"
        },
        "colab": {
          "base_uri": "https://localhost:8080/"
        },
        "id": "kx0xFPIYn8Ve",
        "outputId": "756abb7a-95b9-43ce-9ee4-badd19bee801"
      },
      "outputs": [
        {
          "output_type": "stream",
          "name": "stdout",
          "text": [
            "    school sex  age address famsize Pstatus  Medu  Fedu      Mjob      Fjob  \\\n",
            "0       GP   F   18       U     GT3       A     4     4   at_home   teacher   \n",
            "1       GP   F   17       U     GT3       T     1     1   at_home     other   \n",
            "2       GP   F   15       U     LE3       T     1     1   at_home     other   \n",
            "3       GP   F   15       U     GT3       T     4     2    health  services   \n",
            "4       GP   F   16       U     GT3       T     3     3     other     other   \n",
            "..     ...  ..  ...     ...     ...     ...   ...   ...       ...       ...   \n",
            "390     MS   M   20       U     LE3       A     2     2  services  services   \n",
            "391     MS   M   17       U     LE3       T     3     1  services  services   \n",
            "392     MS   M   21       R     GT3       T     1     1     other     other   \n",
            "393     MS   M   18       R     LE3       T     3     2  services     other   \n",
            "394     MS   M   19       U     LE3       T     1     1     other   at_home   \n",
            "\n",
            "     reason guardian  \n",
            "0    course   mother  \n",
            "1    course   father  \n",
            "2     other   mother  \n",
            "3      home   mother  \n",
            "4      home   father  \n",
            "..      ...      ...  \n",
            "390  course    other  \n",
            "391  course   mother  \n",
            "392  course    other  \n",
            "393  course   mother  \n",
            "394  course   father  \n",
            "\n",
            "[395 rows x 12 columns]\n"
          ]
        }
      ],
      "source": [
        "sliced_df = df.loc[:, 'school':'guardian']\n",
        "print(sliced_df)\n"
      ]
    },
    {
      "cell_type": "markdown",
      "metadata": {
        "pycharm": {
          "name": "#%% md\n"
        },
        "id": "dJ2kokZon8Ve"
      },
      "source": [
        "### Step 5. Create a lambda function that will capitalize strings."
      ]
    },
    {
      "cell_type": "code",
      "execution_count": 29,
      "metadata": {
        "pycharm": {
          "name": "#%%\n"
        },
        "colab": {
          "base_uri": "https://localhost:8080/"
        },
        "id": "KF-1puuQn8Vf",
        "outputId": "e9a6d3f1-8a82-4e72-cc0c-c0afb5fa7bd8"
      },
      "outputs": [
        {
          "output_type": "stream",
          "name": "stdout",
          "text": [
            "    school sex    age address famsize Pstatus  Medu  Fedu      Mjob      Fjob  \\\n",
            "0       GP   F  18000       U     GT3       A  4000  4000   At_home   Teacher   \n",
            "1       GP   F  17000       U     GT3       T  1000  1000   At_home     Other   \n",
            "2       GP   F  15000       U     LE3       T  1000  1000   At_home     Other   \n",
            "3       GP   F  15000       U     GT3       T  4000  2000    Health  Services   \n",
            "4       GP   F  16000       U     GT3       T  3000  3000     Other     Other   \n",
            "..     ...  ..    ...     ...     ...     ...   ...   ...       ...       ...   \n",
            "390     MS   M  20000       U     LE3       A  2000  2000  Services  Services   \n",
            "391     MS   M  17000       U     LE3       T  3000  1000  Services  Services   \n",
            "392     MS   M  21000       R     GT3       T  1000  1000     Other     Other   \n",
            "393     MS   M  18000       R     LE3       T  3000  2000  Services     Other   \n",
            "394     MS   M  19000       U     LE3       T  1000  1000     Other   At_home   \n",
            "\n",
            "     ... freetime goout  Dalc  Walc  health absences     G1     G2     G3  \\\n",
            "0    ...     3000  4000  1000  1000    3000     6000   5000   6000   6000   \n",
            "1    ...     3000  3000  1000  1000    3000     4000   5000   5000   6000   \n",
            "2    ...     3000  2000  2000  3000    3000    10000   7000   8000  10000   \n",
            "3    ...     2000  2000  1000  1000    5000     2000  15000  14000  15000   \n",
            "4    ...     3000  2000  1000  2000    5000     4000   6000  10000  10000   \n",
            "..   ...      ...   ...   ...   ...     ...      ...    ...    ...    ...   \n",
            "390  ...     5000  4000  4000  5000    4000    11000   9000   9000   9000   \n",
            "391  ...     4000  5000  3000  4000    2000     3000  14000  16000  16000   \n",
            "392  ...     5000  3000  3000  3000    3000     3000  10000   8000   7000   \n",
            "393  ...     4000  1000  3000  4000    5000        0  11000  12000  10000   \n",
            "394  ...     2000  3000  3000  3000    5000     5000   8000   9000   9000   \n",
            "\n",
            "    legal_drinker  \n",
            "0            True  \n",
            "1           False  \n",
            "2           False  \n",
            "3           False  \n",
            "4           False  \n",
            "..            ...  \n",
            "390          True  \n",
            "391         False  \n",
            "392          True  \n",
            "393          True  \n",
            "394          True  \n",
            "\n",
            "[395 rows x 34 columns]\n"
          ]
        }
      ],
      "source": [
        "capitalize_string = lambda x: x.capitalize()\n",
        "print(df)"
      ]
    },
    {
      "cell_type": "markdown",
      "metadata": {
        "pycharm": {
          "name": "#%% md\n"
        },
        "id": "4RYPfOpGn8Vf"
      },
      "source": [
        "### Step 6. Capitalize both Mjob and Fjob"
      ]
    },
    {
      "cell_type": "code",
      "execution_count": 15,
      "metadata": {
        "pycharm": {
          "name": "#%%\n"
        },
        "colab": {
          "base_uri": "https://localhost:8080/"
        },
        "id": "lQHE59EVn8Vf",
        "outputId": "efc2848a-fb8a-4f33-9454-a47059eccd18"
      },
      "outputs": [
        {
          "output_type": "stream",
          "name": "stdout",
          "text": [
            "         Mjob      Fjob\n",
            "390  Services  Services\n",
            "391  Services  Services\n",
            "392     Other     Other\n",
            "393  Services     Other\n",
            "394     Other   At_home\n"
          ]
        }
      ],
      "source": [
        "df['Mjob'] = df['Mjob'].apply(capitalize_string)\n",
        "df['Fjob'] = df['Fjob'].apply(capitalize_string)\n",
        "print(df[['Mjob', 'Fjob']].tail())\n"
      ]
    },
    {
      "cell_type": "markdown",
      "metadata": {
        "pycharm": {
          "name": "#%% md\n"
        },
        "id": "slr-Bq3gn8Vf"
      },
      "source": [
        "### Step 7. Print the last elements of the data set."
      ]
    },
    {
      "cell_type": "code",
      "execution_count": 16,
      "metadata": {
        "pycharm": {
          "name": "#%%\n"
        },
        "colab": {
          "base_uri": "https://localhost:8080/"
        },
        "id": "w1w_Azz1n8Vg",
        "outputId": "9b67652b-0960-4440-e1b2-b70fd18f442b"
      },
      "outputs": [
        {
          "output_type": "stream",
          "name": "stdout",
          "text": [
            "    school sex  age address famsize Pstatus  Medu  Fedu      Mjob      Fjob  \\\n",
            "390     MS   M   20       U     LE3       A     2     2  Services  Services   \n",
            "391     MS   M   17       U     LE3       T     3     1  Services  Services   \n",
            "392     MS   M   21       R     GT3       T     1     1     Other     Other   \n",
            "393     MS   M   18       R     LE3       T     3     2  Services     Other   \n",
            "394     MS   M   19       U     LE3       T     1     1     Other   At_home   \n",
            "\n",
            "     ... famrel freetime  goout  Dalc  Walc health absences  G1  G2  G3  \n",
            "390  ...      5        5      4     4     5      4       11   9   9   9  \n",
            "391  ...      2        4      5     3     4      2        3  14  16  16  \n",
            "392  ...      5        5      3     3     3      3        3  10   8   7  \n",
            "393  ...      4        4      1     3     4      5        0  11  12  10  \n",
            "394  ...      3        2      3     3     3      5        5   8   9   9  \n",
            "\n",
            "[5 rows x 33 columns]\n"
          ]
        }
      ],
      "source": [
        "print(df.tail())\n"
      ]
    },
    {
      "cell_type": "markdown",
      "metadata": {
        "pycharm": {
          "name": "#%% md\n"
        },
        "id": "pDbcNjBLn8Vg"
      },
      "source": [
        "### Step 8. Did you notice the original dataframe is still lowercase? Why is that? Fix it and capitalize Mjob and Fjob."
      ]
    },
    {
      "cell_type": "code",
      "execution_count": 19,
      "metadata": {
        "pycharm": {
          "name": "#%%\n"
        },
        "colab": {
          "base_uri": "https://localhost:8080/"
        },
        "id": "HyP5r6cEn8Vg",
        "outputId": "59db5849-aa08-45a1-fb3a-7a1692b0d229"
      },
      "outputs": [
        {
          "output_type": "stream",
          "name": "stdout",
          "text": [
            "      Mjob      Fjob\n",
            "0  At_home   Teacher\n",
            "1  At_home     Other\n",
            "2  At_home     Other\n",
            "3   Health  Services\n",
            "4    Other     Other\n"
          ]
        }
      ],
      "source": [
        "df[['Mjob', 'Fjob']] = df[['Mjob', 'Fjob']].applymap(capitalize_string)\n",
        "print(df[['Mjob', 'Fjob']].head())"
      ]
    },
    {
      "cell_type": "markdown",
      "metadata": {
        "pycharm": {
          "name": "#%% md\n"
        },
        "id": "MSSEoQvQn8Vg"
      },
      "source": [
        "### Step 9. Create a function called majority that returns a boolean value to a new column called legal_drinker (Consider majority as older than 17 years old)"
      ]
    },
    {
      "cell_type": "code",
      "execution_count": 24,
      "metadata": {
        "pycharm": {
          "name": "#%%\n"
        },
        "colab": {
          "base_uri": "https://localhost:8080/"
        },
        "id": "NNaujw-ln8Vg",
        "outputId": "b28f2fda-efcf-42be-befd-f1960838ba63"
      },
      "outputs": [
        {
          "output_type": "stream",
          "name": "stdout",
          "text": [
            "0     True\n",
            "1    False\n",
            "2    False\n",
            "3    False\n",
            "4    False\n",
            "Name: legal_drinker, dtype: bool\n"
          ]
        }
      ],
      "source": [
        "def majority(age):\n",
        "    return age > 17\n",
        "\n",
        "df['legal_drinker'] = df['age'].apply(majority)\n",
        "print(df['legal_drinker'].head())"
      ]
    },
    {
      "cell_type": "code",
      "execution_count": null,
      "metadata": {
        "pycharm": {
          "name": "#%%\n"
        },
        "id": "1fyqIJE9n8Vg"
      },
      "outputs": [],
      "source": []
    },
    {
      "cell_type": "markdown",
      "metadata": {
        "pycharm": {
          "name": "#%% md\n"
        },
        "id": "PtzCIZJ-n8Vh"
      },
      "source": [
        "### Step 10. Multiply every number of the dataset by 10.\n",
        "##### I know this makes no sense, don't forget it is just an exercise"
      ]
    },
    {
      "cell_type": "code",
      "execution_count": 27,
      "metadata": {
        "pycharm": {
          "name": "#%%\n"
        },
        "colab": {
          "base_uri": "https://localhost:8080/"
        },
        "id": "17hztspzn8Vh",
        "outputId": "d38ab04c-6593-451c-d88a-bf966e9bcd09"
      },
      "outputs": [
        {
          "output_type": "stream",
          "name": "stdout",
          "text": [
            "     age  Medu  Fedu  traveltime  studytime  failures  famrel  freetime  \\\n",
            "0  18000  4000  4000        2000       2000         0    4000      3000   \n",
            "1  17000  1000  1000        1000       2000         0    5000      3000   \n",
            "2  15000  1000  1000        1000       2000      3000    4000      3000   \n",
            "3  15000  4000  2000        1000       3000         0    3000      2000   \n",
            "4  16000  3000  3000        1000       2000         0    4000      3000   \n",
            "\n",
            "   goout  Dalc  Walc  health  absences     G1     G2     G3  \n",
            "0   4000  1000  1000    3000      6000   5000   6000   6000  \n",
            "1   3000  1000  1000    3000      4000   5000   5000   6000  \n",
            "2   2000  2000  3000    3000     10000   7000   8000  10000  \n",
            "3   2000  1000  1000    5000      2000  15000  14000  15000  \n",
            "4   2000  1000  2000    5000      4000   6000  10000  10000  \n"
          ]
        }
      ],
      "source": [
        "df_numeric = df.select_dtypes(include='number')\n",
        "df[df_numeric.columns] = df_numeric * 10\n",
        "print(df[df_numeric.columns].head())"
      ]
    },
    {
      "cell_type": "code",
      "execution_count": null,
      "metadata": {
        "pycharm": {
          "name": "#%%\n"
        },
        "id": "zmNQa6xAn8Vh"
      },
      "outputs": [],
      "source": []
    }
  ],
  "metadata": {
    "anaconda-cloud": {},
    "kernelspec": {
      "display_name": "Python [default]",
      "language": "python",
      "name": "python2"
    },
    "language_info": {
      "codemirror_mode": {
        "name": "ipython",
        "version": 2
      },
      "file_extension": ".py",
      "mimetype": "text/x-python",
      "name": "python",
      "nbconvert_exporter": "python",
      "pygments_lexer": "ipython2",
      "version": "2.7.12"
    },
    "colab": {
      "provenance": [],
      "include_colab_link": true
    }
  },
  "nbformat": 4,
  "nbformat_minor": 0
}