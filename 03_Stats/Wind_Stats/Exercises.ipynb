{
  "cells": [
    {
      "cell_type": "markdown",
      "metadata": {
        "pycharm": {
          "name": "#%% md\n"
        },
        "id": "eSS2_Y314Xsm"
      },
      "source": [
        "# Wind Statistics"
      ]
    },
    {
      "cell_type": "markdown",
      "metadata": {
        "pycharm": {
          "name": "#%% md\n"
        },
        "id": "37NU99T84Xsp"
      },
      "source": [
        "### Introduction:\n",
        "\n",
        "The data have been modified to contain some missing values, identified by NaN.  \n",
        "Using pandas should make this exercise\n",
        "easier, in particular for the bonus question.\n",
        "\n",
        "You should be able to perform all of these operations without using\n",
        "a for loop or other looping construct.\n",
        "\n",
        "\n",
        "1. The data in 'wind.data' has the following format:"
      ]
    },
    {
      "cell_type": "code",
      "execution_count": null,
      "metadata": {
        "pycharm": {
          "name": "#%%\n"
        },
        "id": "RqME7gBW4Xsq",
        "outputId": "60262071-13e6-42cc-d884-29f4b697123c"
      },
      "outputs": [
        {
          "data": {
            "text/plain": [
              "'\\nYr Mo Dy   RPT   VAL   ROS   KIL   SHA   BIR   DUB   CLA   MUL   CLO   BEL   MAL\\n61  1  1 15.04 14.96 13.17  9.29   NaN  9.87 13.67 10.25 10.83 12.58 18.50 15.04\\n61  1  2 14.71   NaN 10.83  6.50 12.62  7.67 11.50 10.04  9.79  9.67 17.54 13.83\\n61  1  3 18.50 16.88 12.33 10.13 11.17  6.17 11.25   NaN  8.50  7.67 12.75 12.71\\n'"
            ]
          },
          "execution_count": 434,
          "metadata": {},
          "output_type": "execute_result"
        }
      ],
      "source": [
        "\"\"\"\n",
        "Yr Mo Dy   RPT   VAL   ROS   KIL   SHA   BIR   DUB   CLA   MUL   CLO   BEL   MAL\n",
        "61  1  1 15.04 14.96 13.17  9.29   NaN  9.87 13.67 10.25 10.83 12.58 18.50 15.04\n",
        "61  1  2 14.71   NaN 10.83  6.50 12.62  7.67 11.50 10.04  9.79  9.67 17.54 13.83\n",
        "61  1  3 18.50 16.88 12.33 10.13 11.17  6.17 11.25   NaN  8.50  7.67 12.75 12.71\n",
        "\"\"\""
      ]
    },
    {
      "cell_type": "markdown",
      "metadata": {
        "pycharm": {
          "name": "#%% md\n"
        },
        "id": "ZoZtQrpK4Xss"
      },
      "source": [
        "   The first three columns are year, month and day.  The\n",
        "   remaining 12 columns are average windspeeds in knots at 12\n",
        "   locations in Ireland on that day.   \n",
        "\n",
        "   More information about the dataset go [here](wind.desc)."
      ]
    },
    {
      "cell_type": "markdown",
      "metadata": {
        "collapsed": false,
        "pycharm": {
          "name": "#%% md\n"
        },
        "id": "zDp32s294Xss"
      },
      "source": [
        "### Step 1. Import the necessary libraries"
      ]
    },
    {
      "cell_type": "code",
      "execution_count": 1,
      "metadata": {
        "pycharm": {
          "name": "#%%\n"
        },
        "id": "08Vf97F-4Xst"
      },
      "outputs": [],
      "source": [
        "import pandas as pd\n",
        "import numpy as np\n"
      ]
    },
    {
      "cell_type": "markdown",
      "metadata": {
        "pycharm": {
          "name": "#%% md\n"
        },
        "id": "--b7a8jI4Xst"
      },
      "source": [
        "### Step 2. Import the dataset from this [address](https://raw.githubusercontent.com/thieu1995/csv-files/main/data/pandas/wind.data)"
      ]
    },
    {
      "cell_type": "code",
      "source": [
        "url = 'https://raw.githubusercontent.com/thieu1995/csv-files/main/data/pandas/wind.data'\n",
        "df = pd.read_csv(url)\n",
        "print(df)"
      ],
      "metadata": {
        "id": "X3MtZO8V4pyr",
        "outputId": "26df1c28-b914-4ac5-cac2-0a6ce8785482",
        "colab": {
          "base_uri": "https://localhost:8080/"
        }
      },
      "execution_count": 7,
      "outputs": [
        {
          "output_type": "stream",
          "name": "stdout",
          "text": [
            "     Yr Mo Dy   RPT   VAL   ROS   KIL   SHA   BIR   DUB   CLA   MUL   CLO   BEL   MAL\n",
            "0     61  1  1 15.04 14.96 13.17  9.29   NaN  9.87 1...                              \n",
            "1     61  1  2 14.71   NaN 10.83  6.50 12.62  7.67 1...                              \n",
            "2     61  1  3 18.50 16.88 12.33 10.13 11.17  6.17 1...                              \n",
            "3     61  1  4 10.58  6.63 11.75  4.58  4.54  2.88  ...                              \n",
            "4     61  1  5 13.33 13.25 11.42  6.17 10.71  8.21 1...                              \n",
            "...                                                 ...                              \n",
            "6569  78 12 27 17.58 16.96 17.62  8.08 13.21 11.67 1...                              \n",
            "6570  78 12 28 13.21  5.46 13.46  5.00  8.12  9.42 1...                              \n",
            "6571  78 12 29 14.00 10.29 14.42  8.71  9.71 10.54 1...                              \n",
            "6572  78 12 30 18.50 14.04 21.29  9.13 12.75  9.71 1...                              \n",
            "6573  78 12 31 20.33 17.41 27.29  9.59 12.08 10.13 1...                              \n",
            "\n",
            "[6574 rows x 1 columns]\n"
          ]
        }
      ]
    },
    {
      "cell_type": "markdown",
      "metadata": {
        "pycharm": {
          "name": "#%% md\n"
        },
        "id": "qPZpkq4n4Xst"
      },
      "source": [
        "### Step 3. Assign it to a variable called data and replace the first 3 columns by a proper datetime index."
      ]
    },
    {
      "cell_type": "code",
      "execution_count": 9,
      "metadata": {
        "pycharm": {
          "name": "#%%\n"
        },
        "id": "62T8txcE4Xst",
        "outputId": "e2cc0b77-8130-4b49-a863-4f8139d790b5",
        "colab": {
          "base_uri": "https://localhost:8080/"
        }
      },
      "outputs": [
        {
          "output_type": "stream",
          "name": "stdout",
          "text": [
            "           date    RPT    VAL    ROS    KIL    SHA    BIR    DUB    CLA  \\\n",
            "0    2061-01-01  15.04  14.96  13.17   9.29    NaN   9.87  13.67  10.25   \n",
            "1    2061-02-01  14.71    NaN  10.83   6.50  12.62   7.67  11.50  10.04   \n",
            "2    2061-03-01  18.50  16.88  12.33  10.13  11.17   6.17  11.25    NaN   \n",
            "3    2061-04-01  10.58   6.63  11.75   4.58   4.54   2.88   8.63   1.79   \n",
            "4    2061-05-01  13.33  13.25  11.42   6.17  10.71   8.21  11.92   6.54   \n",
            "...         ...    ...    ...    ...    ...    ...    ...    ...    ...   \n",
            "6569 1978-12-27  17.58  16.96  17.62   8.08  13.21  11.67  14.46  15.59   \n",
            "6570 1978-12-28  13.21   5.46  13.46   5.00   8.12   9.42  14.33  16.25   \n",
            "6571 1978-12-29  14.00  10.29  14.42   8.71   9.71  10.54  19.17  12.46   \n",
            "6572 1978-12-30  18.50  14.04  21.29   9.13  12.75   9.71  18.08  12.87   \n",
            "6573 1978-12-31  20.33  17.41  27.29   9.59  12.08  10.13  19.25  11.63   \n",
            "\n",
            "        MUL    CLO    BEL    MAL  \n",
            "0     10.83  12.58  18.50  15.04  \n",
            "1      9.79   9.67  17.54  13.83  \n",
            "2      8.50   7.67  12.75  12.71  \n",
            "3      5.83   5.88   5.46  10.88  \n",
            "4     10.92  10.34  12.92  11.83  \n",
            "...     ...    ...    ...    ...  \n",
            "6569  14.04  14.00  17.21  40.08  \n",
            "6570  15.25  18.05  21.79  41.46  \n",
            "6571  14.50  16.42  18.88  29.58  \n",
            "6572  12.46  12.12  14.67  28.79  \n",
            "6573  11.58  11.38  12.08  22.08  \n",
            "\n",
            "[6574 rows x 13 columns]\n"
          ]
        }
      ],
      "source": [
        "data = pd.read_csv(url, delim_whitespace=True, parse_dates={'date': ['Yr', 'Mo', 'Dy']}, dayfirst=True)\n",
        "print(data)"
      ]
    },
    {
      "cell_type": "markdown",
      "metadata": {
        "pycharm": {
          "name": "#%% md\n"
        },
        "id": "w1-VlrQO4Xsu"
      },
      "source": [
        "### Step 4. Year 2061? Do we really have data from this year? Create a function to fix it and apply it."
      ]
    },
    {
      "cell_type": "code",
      "execution_count": 11,
      "metadata": {
        "pycharm": {
          "name": "#%%\n"
        },
        "id": "HR6ir_YN4Xsu",
        "outputId": "fbbe1033-96a2-4571-8d4d-33277fb3debd",
        "colab": {
          "base_uri": "https://localhost:8080/"
        }
      },
      "outputs": [
        {
          "output_type": "stream",
          "name": "stdout",
          "text": [
            "0      1961-01-01\n",
            "1      1961-02-01\n",
            "2      1961-03-01\n",
            "3      1961-04-01\n",
            "4      1961-05-01\n",
            "          ...    \n",
            "6569   1978-12-27\n",
            "6570   1978-12-28\n",
            "6571   1978-12-29\n",
            "6572   1978-12-30\n",
            "6573   1978-12-31\n",
            "Name: date, Length: 6574, dtype: datetime64[ns]\n"
          ]
        }
      ],
      "source": [
        "def fix_year(x):\n",
        "    if x.year > 2000:\n",
        "        year = x.year - 100\n",
        "    else:\n",
        "        year = x.year\n",
        "    return pd.to_datetime(str(year) + '-' + str(x.month) + '-' + str(x.day))\n",
        "\n",
        "data['date'] = data['date'].apply(fix_year)\n",
        "print(data['date'])"
      ]
    },
    {
      "cell_type": "markdown",
      "metadata": {
        "pycharm": {
          "name": "#%% md\n"
        },
        "id": "3wP5OH1I4Xsu"
      },
      "source": [
        "### Step 5. Set the right dates as the index. Pay attention at the data type, it should be datetime64[ns]."
      ]
    },
    {
      "cell_type": "code",
      "execution_count": 12,
      "metadata": {
        "pycharm": {
          "name": "#%%\n"
        },
        "id": "uNFQ_Zvx4Xsu",
        "outputId": "51494fcb-8736-4d26-9387-03128b1bbbbb",
        "colab": {
          "base_uri": "https://localhost:8080/",
          "height": 238
        }
      },
      "outputs": [
        {
          "output_type": "execute_result",
          "data": {
            "text/plain": [
              "              RPT    VAL    ROS    KIL    SHA   BIR    DUB    CLA    MUL  \\\n",
              "date                                                                       \n",
              "1961-01-01  15.04  14.96  13.17   9.29    NaN  9.87  13.67  10.25  10.83   \n",
              "1961-02-01  14.71    NaN  10.83   6.50  12.62  7.67  11.50  10.04   9.79   \n",
              "1961-03-01  18.50  16.88  12.33  10.13  11.17  6.17  11.25    NaN   8.50   \n",
              "1961-04-01  10.58   6.63  11.75   4.58   4.54  2.88   8.63   1.79   5.83   \n",
              "1961-05-01  13.33  13.25  11.42   6.17  10.71  8.21  11.92   6.54  10.92   \n",
              "\n",
              "              CLO    BEL    MAL  \n",
              "date                             \n",
              "1961-01-01  12.58  18.50  15.04  \n",
              "1961-02-01   9.67  17.54  13.83  \n",
              "1961-03-01   7.67  12.75  12.71  \n",
              "1961-04-01   5.88   5.46  10.88  \n",
              "1961-05-01  10.34  12.92  11.83  "
            ],
            "text/html": [
              "\n",
              "  <div id=\"df-9c1f7dd8-6659-466d-b8af-fc0d57396ec1\" class=\"colab-df-container\">\n",
              "    <div>\n",
              "<style scoped>\n",
              "    .dataframe tbody tr th:only-of-type {\n",
              "        vertical-align: middle;\n",
              "    }\n",
              "\n",
              "    .dataframe tbody tr th {\n",
              "        vertical-align: top;\n",
              "    }\n",
              "\n",
              "    .dataframe thead th {\n",
              "        text-align: right;\n",
              "    }\n",
              "</style>\n",
              "<table border=\"1\" class=\"dataframe\">\n",
              "  <thead>\n",
              "    <tr style=\"text-align: right;\">\n",
              "      <th></th>\n",
              "      <th>RPT</th>\n",
              "      <th>VAL</th>\n",
              "      <th>ROS</th>\n",
              "      <th>KIL</th>\n",
              "      <th>SHA</th>\n",
              "      <th>BIR</th>\n",
              "      <th>DUB</th>\n",
              "      <th>CLA</th>\n",
              "      <th>MUL</th>\n",
              "      <th>CLO</th>\n",
              "      <th>BEL</th>\n",
              "      <th>MAL</th>\n",
              "    </tr>\n",
              "    <tr>\n",
              "      <th>date</th>\n",
              "      <th></th>\n",
              "      <th></th>\n",
              "      <th></th>\n",
              "      <th></th>\n",
              "      <th></th>\n",
              "      <th></th>\n",
              "      <th></th>\n",
              "      <th></th>\n",
              "      <th></th>\n",
              "      <th></th>\n",
              "      <th></th>\n",
              "      <th></th>\n",
              "    </tr>\n",
              "  </thead>\n",
              "  <tbody>\n",
              "    <tr>\n",
              "      <th>1961-01-01</th>\n",
              "      <td>15.04</td>\n",
              "      <td>14.96</td>\n",
              "      <td>13.17</td>\n",
              "      <td>9.29</td>\n",
              "      <td>NaN</td>\n",
              "      <td>9.87</td>\n",
              "      <td>13.67</td>\n",
              "      <td>10.25</td>\n",
              "      <td>10.83</td>\n",
              "      <td>12.58</td>\n",
              "      <td>18.50</td>\n",
              "      <td>15.04</td>\n",
              "    </tr>\n",
              "    <tr>\n",
              "      <th>1961-02-01</th>\n",
              "      <td>14.71</td>\n",
              "      <td>NaN</td>\n",
              "      <td>10.83</td>\n",
              "      <td>6.50</td>\n",
              "      <td>12.62</td>\n",
              "      <td>7.67</td>\n",
              "      <td>11.50</td>\n",
              "      <td>10.04</td>\n",
              "      <td>9.79</td>\n",
              "      <td>9.67</td>\n",
              "      <td>17.54</td>\n",
              "      <td>13.83</td>\n",
              "    </tr>\n",
              "    <tr>\n",
              "      <th>1961-03-01</th>\n",
              "      <td>18.50</td>\n",
              "      <td>16.88</td>\n",
              "      <td>12.33</td>\n",
              "      <td>10.13</td>\n",
              "      <td>11.17</td>\n",
              "      <td>6.17</td>\n",
              "      <td>11.25</td>\n",
              "      <td>NaN</td>\n",
              "      <td>8.50</td>\n",
              "      <td>7.67</td>\n",
              "      <td>12.75</td>\n",
              "      <td>12.71</td>\n",
              "    </tr>\n",
              "    <tr>\n",
              "      <th>1961-04-01</th>\n",
              "      <td>10.58</td>\n",
              "      <td>6.63</td>\n",
              "      <td>11.75</td>\n",
              "      <td>4.58</td>\n",
              "      <td>4.54</td>\n",
              "      <td>2.88</td>\n",
              "      <td>8.63</td>\n",
              "      <td>1.79</td>\n",
              "      <td>5.83</td>\n",
              "      <td>5.88</td>\n",
              "      <td>5.46</td>\n",
              "      <td>10.88</td>\n",
              "    </tr>\n",
              "    <tr>\n",
              "      <th>1961-05-01</th>\n",
              "      <td>13.33</td>\n",
              "      <td>13.25</td>\n",
              "      <td>11.42</td>\n",
              "      <td>6.17</td>\n",
              "      <td>10.71</td>\n",
              "      <td>8.21</td>\n",
              "      <td>11.92</td>\n",
              "      <td>6.54</td>\n",
              "      <td>10.92</td>\n",
              "      <td>10.34</td>\n",
              "      <td>12.92</td>\n",
              "      <td>11.83</td>\n",
              "    </tr>\n",
              "  </tbody>\n",
              "</table>\n",
              "</div>\n",
              "    <div class=\"colab-df-buttons\">\n",
              "\n",
              "  <div class=\"colab-df-container\">\n",
              "    <button class=\"colab-df-convert\" onclick=\"convertToInteractive('df-9c1f7dd8-6659-466d-b8af-fc0d57396ec1')\"\n",
              "            title=\"Convert this dataframe to an interactive table.\"\n",
              "            style=\"display:none;\">\n",
              "\n",
              "  <svg xmlns=\"http://www.w3.org/2000/svg\" height=\"24px\" viewBox=\"0 -960 960 960\">\n",
              "    <path d=\"M120-120v-720h720v720H120Zm60-500h600v-160H180v160Zm220 220h160v-160H400v160Zm0 220h160v-160H400v160ZM180-400h160v-160H180v160Zm440 0h160v-160H620v160ZM180-180h160v-160H180v160Zm440 0h160v-160H620v160Z\"/>\n",
              "  </svg>\n",
              "    </button>\n",
              "\n",
              "  <style>\n",
              "    .colab-df-container {\n",
              "      display:flex;\n",
              "      gap: 12px;\n",
              "    }\n",
              "\n",
              "    .colab-df-convert {\n",
              "      background-color: #E8F0FE;\n",
              "      border: none;\n",
              "      border-radius: 50%;\n",
              "      cursor: pointer;\n",
              "      display: none;\n",
              "      fill: #1967D2;\n",
              "      height: 32px;\n",
              "      padding: 0 0 0 0;\n",
              "      width: 32px;\n",
              "    }\n",
              "\n",
              "    .colab-df-convert:hover {\n",
              "      background-color: #E2EBFA;\n",
              "      box-shadow: 0px 1px 2px rgba(60, 64, 67, 0.3), 0px 1px 3px 1px rgba(60, 64, 67, 0.15);\n",
              "      fill: #174EA6;\n",
              "    }\n",
              "\n",
              "    .colab-df-buttons div {\n",
              "      margin-bottom: 4px;\n",
              "    }\n",
              "\n",
              "    [theme=dark] .colab-df-convert {\n",
              "      background-color: #3B4455;\n",
              "      fill: #D2E3FC;\n",
              "    }\n",
              "\n",
              "    [theme=dark] .colab-df-convert:hover {\n",
              "      background-color: #434B5C;\n",
              "      box-shadow: 0px 1px 3px 1px rgba(0, 0, 0, 0.15);\n",
              "      filter: drop-shadow(0px 1px 2px rgba(0, 0, 0, 0.3));\n",
              "      fill: #FFFFFF;\n",
              "    }\n",
              "  </style>\n",
              "\n",
              "    <script>\n",
              "      const buttonEl =\n",
              "        document.querySelector('#df-9c1f7dd8-6659-466d-b8af-fc0d57396ec1 button.colab-df-convert');\n",
              "      buttonEl.style.display =\n",
              "        google.colab.kernel.accessAllowed ? 'block' : 'none';\n",
              "\n",
              "      async function convertToInteractive(key) {\n",
              "        const element = document.querySelector('#df-9c1f7dd8-6659-466d-b8af-fc0d57396ec1');\n",
              "        const dataTable =\n",
              "          await google.colab.kernel.invokeFunction('convertToInteractive',\n",
              "                                                    [key], {});\n",
              "        if (!dataTable) return;\n",
              "\n",
              "        const docLinkHtml = 'Like what you see? Visit the ' +\n",
              "          '<a target=\"_blank\" href=https://colab.research.google.com/notebooks/data_table.ipynb>data table notebook</a>'\n",
              "          + ' to learn more about interactive tables.';\n",
              "        element.innerHTML = '';\n",
              "        dataTable['output_type'] = 'display_data';\n",
              "        await google.colab.output.renderOutput(dataTable, element);\n",
              "        const docLink = document.createElement('div');\n",
              "        docLink.innerHTML = docLinkHtml;\n",
              "        element.appendChild(docLink);\n",
              "      }\n",
              "    </script>\n",
              "  </div>\n",
              "\n",
              "\n",
              "<div id=\"df-e8240d59-01fa-40d8-9796-45b83ae9cc02\">\n",
              "  <button class=\"colab-df-quickchart\" onclick=\"quickchart('df-e8240d59-01fa-40d8-9796-45b83ae9cc02')\"\n",
              "            title=\"Suggest charts\"\n",
              "            style=\"display:none;\">\n",
              "\n",
              "<svg xmlns=\"http://www.w3.org/2000/svg\" height=\"24px\"viewBox=\"0 0 24 24\"\n",
              "     width=\"24px\">\n",
              "    <g>\n",
              "        <path d=\"M19 3H5c-1.1 0-2 .9-2 2v14c0 1.1.9 2 2 2h14c1.1 0 2-.9 2-2V5c0-1.1-.9-2-2-2zM9 17H7v-7h2v7zm4 0h-2V7h2v10zm4 0h-2v-4h2v4z\"/>\n",
              "    </g>\n",
              "</svg>\n",
              "  </button>\n",
              "\n",
              "<style>\n",
              "  .colab-df-quickchart {\n",
              "      --bg-color: #E8F0FE;\n",
              "      --fill-color: #1967D2;\n",
              "      --hover-bg-color: #E2EBFA;\n",
              "      --hover-fill-color: #174EA6;\n",
              "      --disabled-fill-color: #AAA;\n",
              "      --disabled-bg-color: #DDD;\n",
              "  }\n",
              "\n",
              "  [theme=dark] .colab-df-quickchart {\n",
              "      --bg-color: #3B4455;\n",
              "      --fill-color: #D2E3FC;\n",
              "      --hover-bg-color: #434B5C;\n",
              "      --hover-fill-color: #FFFFFF;\n",
              "      --disabled-bg-color: #3B4455;\n",
              "      --disabled-fill-color: #666;\n",
              "  }\n",
              "\n",
              "  .colab-df-quickchart {\n",
              "    background-color: var(--bg-color);\n",
              "    border: none;\n",
              "    border-radius: 50%;\n",
              "    cursor: pointer;\n",
              "    display: none;\n",
              "    fill: var(--fill-color);\n",
              "    height: 32px;\n",
              "    padding: 0;\n",
              "    width: 32px;\n",
              "  }\n",
              "\n",
              "  .colab-df-quickchart:hover {\n",
              "    background-color: var(--hover-bg-color);\n",
              "    box-shadow: 0 1px 2px rgba(60, 64, 67, 0.3), 0 1px 3px 1px rgba(60, 64, 67, 0.15);\n",
              "    fill: var(--button-hover-fill-color);\n",
              "  }\n",
              "\n",
              "  .colab-df-quickchart-complete:disabled,\n",
              "  .colab-df-quickchart-complete:disabled:hover {\n",
              "    background-color: var(--disabled-bg-color);\n",
              "    fill: var(--disabled-fill-color);\n",
              "    box-shadow: none;\n",
              "  }\n",
              "\n",
              "  .colab-df-spinner {\n",
              "    border: 2px solid var(--fill-color);\n",
              "    border-color: transparent;\n",
              "    border-bottom-color: var(--fill-color);\n",
              "    animation:\n",
              "      spin 1s steps(1) infinite;\n",
              "  }\n",
              "\n",
              "  @keyframes spin {\n",
              "    0% {\n",
              "      border-color: transparent;\n",
              "      border-bottom-color: var(--fill-color);\n",
              "      border-left-color: var(--fill-color);\n",
              "    }\n",
              "    20% {\n",
              "      border-color: transparent;\n",
              "      border-left-color: var(--fill-color);\n",
              "      border-top-color: var(--fill-color);\n",
              "    }\n",
              "    30% {\n",
              "      border-color: transparent;\n",
              "      border-left-color: var(--fill-color);\n",
              "      border-top-color: var(--fill-color);\n",
              "      border-right-color: var(--fill-color);\n",
              "    }\n",
              "    40% {\n",
              "      border-color: transparent;\n",
              "      border-right-color: var(--fill-color);\n",
              "      border-top-color: var(--fill-color);\n",
              "    }\n",
              "    60% {\n",
              "      border-color: transparent;\n",
              "      border-right-color: var(--fill-color);\n",
              "    }\n",
              "    80% {\n",
              "      border-color: transparent;\n",
              "      border-right-color: var(--fill-color);\n",
              "      border-bottom-color: var(--fill-color);\n",
              "    }\n",
              "    90% {\n",
              "      border-color: transparent;\n",
              "      border-bottom-color: var(--fill-color);\n",
              "    }\n",
              "  }\n",
              "</style>\n",
              "\n",
              "  <script>\n",
              "    async function quickchart(key) {\n",
              "      const quickchartButtonEl =\n",
              "        document.querySelector('#' + key + ' button');\n",
              "      quickchartButtonEl.disabled = true;  // To prevent multiple clicks.\n",
              "      quickchartButtonEl.classList.add('colab-df-spinner');\n",
              "      try {\n",
              "        const charts = await google.colab.kernel.invokeFunction(\n",
              "            'suggestCharts', [key], {});\n",
              "      } catch (error) {\n",
              "        console.error('Error during call to suggestCharts:', error);\n",
              "      }\n",
              "      quickchartButtonEl.classList.remove('colab-df-spinner');\n",
              "      quickchartButtonEl.classList.add('colab-df-quickchart-complete');\n",
              "    }\n",
              "    (() => {\n",
              "      let quickchartButtonEl =\n",
              "        document.querySelector('#df-e8240d59-01fa-40d8-9796-45b83ae9cc02 button');\n",
              "      quickchartButtonEl.style.display =\n",
              "        google.colab.kernel.accessAllowed ? 'block' : 'none';\n",
              "    })();\n",
              "  </script>\n",
              "</div>\n",
              "    </div>\n",
              "  </div>\n"
            ]
          },
          "metadata": {},
          "execution_count": 12
        }
      ],
      "source": [
        "data.set_index('date', inplace=True)\n",
        "data.head()\n"
      ]
    },
    {
      "cell_type": "markdown",
      "metadata": {
        "pycharm": {
          "name": "#%% md\n"
        },
        "id": "FvuaBsCp4Xsv"
      },
      "source": [
        "### Step 6. Compute how many values are missing for each location over the entire record.  \n",
        "#### They should be ignored in all calculations below."
      ]
    },
    {
      "cell_type": "code",
      "execution_count": 13,
      "metadata": {
        "pycharm": {
          "name": "#%%\n"
        },
        "id": "KOfZnEEv4Xsv",
        "outputId": "ef2d83d6-d9c5-4ea0-e355-e22094c4ff13",
        "colab": {
          "base_uri": "https://localhost:8080/"
        }
      },
      "outputs": [
        {
          "output_type": "stream",
          "name": "stdout",
          "text": [
            "RPT    6\n",
            "VAL    3\n",
            "ROS    2\n",
            "KIL    5\n",
            "SHA    2\n",
            "BIR    0\n",
            "DUB    3\n",
            "CLA    2\n",
            "MUL    3\n",
            "CLO    1\n",
            "BEL    0\n",
            "MAL    4\n",
            "dtype: int64\n"
          ]
        }
      ],
      "source": [
        "missing_values = data.isnull().sum()\n",
        "print(missing_values)"
      ]
    },
    {
      "cell_type": "markdown",
      "metadata": {
        "pycharm": {
          "name": "#%% md\n"
        },
        "id": "2CmWJvtD4Xsv"
      },
      "source": [
        "### Step 7. Compute how many non-missing values there are in total."
      ]
    },
    {
      "cell_type": "code",
      "execution_count": 14,
      "metadata": {
        "scrolled": true,
        "pycharm": {
          "name": "#%%\n"
        },
        "id": "0LQTvHWw4Xsv",
        "outputId": "7d78a4ab-07b8-4dbc-cc82-d2522c92d83c",
        "colab": {
          "base_uri": "https://localhost:8080/"
        }
      },
      "outputs": [
        {
          "output_type": "stream",
          "name": "stdout",
          "text": [
            "78857\n"
          ]
        }
      ],
      "source": [
        "non_missing_values = data.notnull().sum().sum()\n",
        "print(non_missing_values)"
      ]
    },
    {
      "cell_type": "markdown",
      "metadata": {
        "pycharm": {
          "name": "#%% md\n"
        },
        "id": "p-iSHOkl4Xsv"
      },
      "source": [
        "### Step 8. Calculate the mean windspeeds of the windspeeds over all the locations and all the times.\n",
        "#### A single number for the entire dataset."
      ]
    },
    {
      "cell_type": "code",
      "execution_count": 16,
      "metadata": {
        "pycharm": {
          "name": "#%%\n"
        },
        "id": "GW_aM4Pm4Xsw",
        "outputId": "eb0ea4a8-b56d-4bbe-ecf7-9b8dd7254eba",
        "colab": {
          "base_uri": "https://localhost:8080/"
        }
      },
      "outputs": [
        {
          "output_type": "stream",
          "name": "stdout",
          "text": [
            "10.227982360836938\n"
          ]
        }
      ],
      "source": [
        "mean_windspeed = data.mean().mean()\n",
        "print(mean_windspeed)"
      ]
    },
    {
      "cell_type": "markdown",
      "metadata": {
        "pycharm": {
          "name": "#%% md\n"
        },
        "id": "ZnZHZLRZ4Xsw"
      },
      "source": [
        "### Step 9. Create a DataFrame called loc_stats and calculate the min, max and mean windspeeds and standard deviations of the windspeeds at each location over all the days\n",
        "\n",
        "#### A different set of numbers for each location."
      ]
    },
    {
      "cell_type": "code",
      "execution_count": 18,
      "metadata": {
        "pycharm": {
          "name": "#%%\n"
        },
        "id": "3A15b-Fs4Xsw",
        "outputId": "06668479-e380-4a55-f6d5-008c741414df",
        "colab": {
          "base_uri": "https://localhost:8080/"
        }
      },
      "outputs": [
        {
          "output_type": "stream",
          "name": "stdout",
          "text": [
            "      min    max       mean       std\n",
            "RPT  0.67  35.80  12.362987  5.618413\n",
            "VAL  0.21  33.37  10.644314  5.267356\n",
            "ROS  1.50  33.84  11.660526  5.008450\n",
            "KIL  0.00  28.46   6.306468  3.605811\n",
            "SHA  0.13  37.54  10.455834  4.936125\n",
            "BIR  0.00  26.16   7.092254  3.968683\n",
            "DUB  0.00  30.37   9.797343  4.977555\n",
            "CLA  0.00  31.08   8.495053  4.499449\n",
            "MUL  0.00  25.88   8.493590  4.166872\n",
            "CLO  0.04  28.21   8.707332  4.503954\n",
            "BEL  0.13  42.38  13.121007  5.835037\n",
            "MAL  0.67  42.54  15.599079  6.699794\n"
          ]
        }
      ],
      "source": [
        "loc_stats = pd.DataFrame({\n",
        "    'min': data.min(),\n",
        "    'max': data.max(),\n",
        "    'mean': data.mean(),\n",
        "    'std': data.std()\n",
        "})\n",
        "print(loc_stats)"
      ]
    },
    {
      "cell_type": "markdown",
      "metadata": {
        "pycharm": {
          "name": "#%% md\n"
        },
        "id": "7g_bby4L4Xsw"
      },
      "source": [
        "### Step 10. Create a DataFrame called day_stats and calculate the min, max and mean windspeed and standard deviations of the windspeeds across all the locations at each day.\n",
        "\n",
        "#### A different set of numbers for each day."
      ]
    },
    {
      "cell_type": "code",
      "execution_count": 19,
      "metadata": {
        "pycharm": {
          "name": "#%%\n"
        },
        "id": "OyLE7JJt4Xsw",
        "outputId": "51555877-0d38-47b5-c5fb-23f134d89404",
        "colab": {
          "base_uri": "https://localhost:8080/"
        }
      },
      "outputs": [
        {
          "output_type": "stream",
          "name": "stdout",
          "text": [
            "             min    max       mean       std\n",
            "date                                        \n",
            "1961-01-01  9.29  18.50  13.018182  2.808875\n",
            "1961-02-01  6.50  17.54  11.336364  3.188994\n",
            "1961-03-01  6.17  18.50  11.641818  3.681912\n",
            "1961-04-01  1.79  11.75   6.619167  3.198126\n",
            "1961-05-01  6.17  13.33  10.630000  2.445356\n",
            "...          ...    ...        ...       ...\n",
            "1978-12-27  8.08  40.08  16.708333  7.868076\n",
            "1978-12-28  5.00  41.46  15.150000  9.687857\n",
            "1978-12-29  8.71  29.58  14.890000  5.756836\n",
            "1978-12-30  9.13  28.79  15.367500  5.540437\n",
            "1978-12-31  9.59  27.29  15.402500  5.702483\n",
            "\n",
            "[6574 rows x 4 columns]\n"
          ]
        }
      ],
      "source": [
        "day_stats = pd.DataFrame({\n",
        "    'min': data.min(axis=1),\n",
        "    'max': data.max(axis=1),\n",
        "    'mean': data.mean(axis=1),\n",
        "    'std': data.std(axis=1)\n",
        "})\n",
        "print(day_stats)"
      ]
    },
    {
      "cell_type": "markdown",
      "metadata": {
        "pycharm": {
          "name": "#%% md\n"
        },
        "id": "0ZcDwxrn4Xsx"
      },
      "source": [
        "### Step 11. Find the average windspeed in January for each location.  \n",
        "#### Treat January 1961 and January 1962 both as January."
      ]
    },
    {
      "cell_type": "code",
      "execution_count": 20,
      "metadata": {
        "pycharm": {
          "name": "#%%\n"
        },
        "id": "72p9Z6Y24Xsx",
        "outputId": "478cc0a4-50c4-4b02-af71-7d940b2299fe",
        "colab": {
          "base_uri": "https://localhost:8080/"
        }
      },
      "outputs": [
        {
          "output_type": "stream",
          "name": "stdout",
          "text": [
            "RPT    14.271257\n",
            "VAL    12.466219\n",
            "ROS    12.803961\n",
            "KIL     7.082599\n",
            "SHA    11.548507\n",
            "BIR     7.944803\n",
            "DUB    11.265000\n",
            "CLA     9.425699\n",
            "MUL     9.356679\n",
            "CLO     9.782025\n",
            "BEL    14.277885\n",
            "MAL    17.290467\n",
            "dtype: float64\n"
          ]
        }
      ],
      "source": [
        "january_avg = data[data.index.month == 1].mean()\n",
        "print(january_avg)"
      ]
    },
    {
      "cell_type": "markdown",
      "metadata": {
        "pycharm": {
          "name": "#%% md\n"
        },
        "id": "_24thpIV4Xsx"
      },
      "source": [
        "### Step 12. Downsample the record to a yearly frequency for each location."
      ]
    },
    {
      "cell_type": "code",
      "execution_count": 21,
      "metadata": {
        "pycharm": {
          "name": "#%%\n"
        },
        "id": "XMkfwhsF4Xsx",
        "outputId": "d8ac9cae-86f4-422c-d961-e1e2d1547ee6",
        "colab": {
          "base_uri": "https://localhost:8080/"
        }
      },
      "outputs": [
        {
          "output_type": "stream",
          "name": "stdout",
          "text": [
            "                  RPT        VAL        ROS       KIL        SHA       BIR  \\\n",
            "date                                                                         \n",
            "1961-12-31  12.299583  10.351796  11.362369  6.958227  10.881763  7.729726   \n",
            "1962-12-31  12.246923  10.110438  11.732712  6.960440  10.657918  7.393068   \n",
            "1963-12-31  12.813452  10.836986  12.541151  7.330055  11.724110  8.434712   \n",
            "1964-12-31  12.363661  10.920164  12.104372  6.787787  11.454481  7.570874   \n",
            "1965-12-31  12.451370  11.075534  11.848767  6.858466  11.024795  7.478110   \n",
            "1966-12-31  13.461973  11.557205  12.020630  7.345726  11.805041  7.793671   \n",
            "1967-12-31  12.737151  10.990986  11.739397  7.143425  11.630740  7.368164   \n",
            "1968-12-31  11.835628  10.468197  11.409754  6.477678  10.760765  6.067322   \n",
            "1969-12-31  11.166356   9.723699  10.902000  5.767973   9.873918  6.189973   \n",
            "1970-12-31  12.600329  10.726932  11.730247  6.217178  10.567370  7.609452   \n",
            "1971-12-31  11.273123   9.095178  11.088329  5.241507   9.440329  6.097151   \n",
            "1972-12-31  12.463962  10.561311  12.058333  5.929699   9.430410  6.358825   \n",
            "1973-12-31  11.828466  10.680493  10.680493  5.547863   9.640877  6.548740   \n",
            "1974-12-31  13.643096  11.811781  12.336356  6.427041  11.110986  6.809781   \n",
            "1975-12-31  12.008575  10.293836  11.564712  5.269096   9.190082  5.668521   \n",
            "1976-12-31  11.737842  10.203115  10.761230  5.109426   8.846339  6.311038   \n",
            "1977-12-31  13.099616  11.144493  12.627836  6.073945  10.003836  8.586438   \n",
            "1978-12-31  12.504356  11.044274  11.380000  6.082356  10.167233  7.650658   \n",
            "\n",
            "                  DUB        CLA       MUL        CLO        BEL        MAL  \n",
            "date                                                                         \n",
            "1961-12-31   9.733923   8.858788  8.647652   9.835577  13.502795  13.680773  \n",
            "1962-12-31  11.020712   8.793753  8.316822   9.676247  12.930685  14.323956  \n",
            "1963-12-31  11.075699  10.336548  8.903589  10.224438  13.638877  14.999014  \n",
            "1964-12-31  10.259153   9.467350  7.789016  10.207951  13.740546  14.910301  \n",
            "1965-12-31  10.618712   8.879918  7.907425   9.918082  12.964247  15.591644  \n",
            "1966-12-31  10.579808   8.835096  8.514438   9.768959  14.265836  16.307260  \n",
            "1967-12-31  10.652027   9.325616  8.645014   9.547425  14.774548  17.135945  \n",
            "1968-12-31   8.859180   8.255519  7.224945   7.832978  12.808634  15.017486  \n",
            "1969-12-31   8.564493   7.711397  7.924521   7.754384  12.621233  15.762904  \n",
            "1970-12-31   9.609890   8.334630  9.297616   8.289808  13.183644  16.456027  \n",
            "1971-12-31   8.385890   6.757315  7.915370   7.229753  12.208932  15.025233  \n",
            "1972-12-31   9.704508   7.680792  8.357295   7.515273  12.727377  15.028716  \n",
            "1973-12-31   8.482110   7.614274  8.245534   7.812411  12.169699  15.441096  \n",
            "1974-12-31  10.084603   9.896986  9.331753   8.736356  13.252959  16.947671  \n",
            "1975-12-31   8.562603   7.843836  8.797945   7.382822  12.631671  15.307863  \n",
            "1976-12-31   9.149126   7.146202  8.883716   7.883087  12.332377  15.471448  \n",
            "1977-12-31  11.523205   8.378384  9.098192   8.821616  13.459068  16.590849  \n",
            "1978-12-31   9.489342   8.800466  9.089753   8.301699  12.967397  16.771370  \n"
          ]
        }
      ],
      "source": [
        "yearly_data = data.resample('Y').mean()\n",
        "print(yearly_data)"
      ]
    },
    {
      "cell_type": "markdown",
      "metadata": {
        "pycharm": {
          "name": "#%% md\n"
        },
        "id": "YeSFzz8L4Xsx"
      },
      "source": [
        "### Step 13. Downsample the record to a monthly frequency for each location."
      ]
    },
    {
      "cell_type": "code",
      "execution_count": 22,
      "metadata": {
        "pycharm": {
          "name": "#%%\n"
        },
        "id": "JcfxnLxo4Xsx",
        "outputId": "a348a309-ab97-4257-d902-746829f73062",
        "colab": {
          "base_uri": "https://localhost:8080/"
        }
      },
      "outputs": [
        {
          "output_type": "stream",
          "name": "stdout",
          "text": [
            "                  RPT        VAL        ROS       KIL        SHA       BIR  \\\n",
            "date                                                                         \n",
            "1961-01-31  14.025667  11.344839  12.630000  7.700968  11.175172  8.567742   \n",
            "1961-02-28  13.912143  12.270741  11.774074  8.007778  12.605714  9.527857   \n",
            "1961-03-31  11.628387  10.619032  10.850968  6.994333  10.326129  8.146129   \n",
            "1961-04-30  10.886333   9.140667   9.406667  6.137333   8.613667  6.213000   \n",
            "1961-05-31  10.618065   8.858667  10.903548  5.904000   9.279677  6.510000   \n",
            "...               ...        ...        ...       ...        ...       ...   \n",
            "1978-08-31   9.966129   8.520645   9.548387  4.628387   7.743548  6.326452   \n",
            "1978-09-30  11.483000  11.269000  11.155667  5.809667  10.677667  8.484667   \n",
            "1978-10-31   9.689677   9.230000   9.269032  4.801935   8.449355  6.615806   \n",
            "1978-11-30  16.389000  13.451333  13.436000  7.337667  11.388000  8.661000   \n",
            "1978-12-31  13.391613  10.460645  13.484839  5.690323   9.073871  6.945806   \n",
            "\n",
            "                  DUB        CLA        MUL        CLO        BEL        MAL  \n",
            "date                                                                          \n",
            "1961-01-31  10.331290   9.193548   8.847000   9.700968  13.417742  13.392667  \n",
            "1961-02-28  10.161429  10.088571  10.386786  11.650357  15.863214  14.680357  \n",
            "1961-03-31  10.309355   9.235000   9.694333  10.450323  14.889677  15.480968  \n",
            "1961-04-30   7.491000   7.157667   7.273000   7.859333  11.303000  10.634667  \n",
            "1961-05-31   7.505484   8.037419   8.160645   8.833871  11.774839  12.665484  \n",
            "...               ...        ...        ...        ...        ...        ...  \n",
            "1978-08-31   6.558065   6.607419   7.811935   6.715806  11.420968  14.038387  \n",
            "1978-09-30  10.681333   9.783333   9.846000   9.128667  15.937333  19.311333  \n",
            "1978-10-31   8.184194   7.253871   7.794194   7.624194  13.432581  15.559677  \n",
            "1978-11-30  11.095333   9.310000  10.543333   9.992333  15.271667  19.499000  \n",
            "1978-12-31   9.793548   8.283226   8.422903   8.522258  11.379677  18.508710  \n",
            "\n",
            "[216 rows x 12 columns]\n"
          ]
        }
      ],
      "source": [
        "monthly_data = data.resample('M').mean()\n",
        "print(monthly_data)"
      ]
    },
    {
      "cell_type": "markdown",
      "metadata": {
        "pycharm": {
          "name": "#%% md\n"
        },
        "id": "QVavodkT4Xsx"
      },
      "source": [
        "### Step 14. Downsample the record to a weekly frequency for each location."
      ]
    },
    {
      "cell_type": "code",
      "execution_count": 23,
      "metadata": {
        "pycharm": {
          "name": "#%%\n"
        },
        "id": "zVoOP4Xt4Xsy",
        "outputId": "5e9e8e1d-8c83-4ea5-f224-f17ea1ce0e4b",
        "colab": {
          "base_uri": "https://localhost:8080/"
        }
      },
      "outputs": [
        {
          "output_type": "stream",
          "name": "stdout",
          "text": [
            "                  RPT        VAL        ROS        KIL        SHA        BIR  \\\n",
            "date                                                                           \n",
            "1961-01-01  15.040000  14.960000  13.170000   9.290000        NaN   9.870000   \n",
            "1961-01-08  11.984286   9.997143   9.974286   6.668571  10.421429   7.357143   \n",
            "1961-01-15  10.530000   7.678571   8.921429   4.220000   6.828571   4.061429   \n",
            "1961-01-22  13.204286   9.862857  12.982857   6.328571   8.966667   7.417143   \n",
            "1961-01-29  19.880000  16.141429  18.225714  12.720000  17.432857  14.828571   \n",
            "...               ...        ...        ...        ...        ...        ...   \n",
            "1978-12-03  12.922857   7.970000  12.404286   4.148571   7.322857   5.041429   \n",
            "1978-12-10  10.400000   7.935714   9.571429   5.148571   8.211429   6.654286   \n",
            "1978-12-17  16.781429  14.651429  14.464286   6.742857  11.070000   6.802857   \n",
            "1978-12-24  11.155714   8.008571  13.172857   4.004286   7.825714   6.290000   \n",
            "1978-12-31  14.951429  11.801429  16.035714   6.507143   9.660000   8.620000   \n",
            "\n",
            "                  DUB        CLA        MUL        CLO        BEL        MAL  \n",
            "date                                                                          \n",
            "1961-01-01  13.670000  10.250000  10.830000  12.580000  18.500000  15.040000  \n",
            "1961-01-08   8.960000   8.387143   7.991667   8.257143  12.341429   9.366667  \n",
            "1961-01-15   5.857143   5.195714   4.975714   6.011429   9.214286   8.517143  \n",
            "1961-01-22   9.257143   7.875714   7.145714   8.124286   9.821429  11.434286  \n",
            "1961-01-29  15.528571  15.160000  14.480000  15.640000  20.930000  22.530000  \n",
            "...               ...        ...        ...        ...        ...        ...  \n",
            "1978-12-03   7.185714   5.060000   6.534286   6.227143   8.362857  15.278571  \n",
            "1978-12-10   6.761429   6.702857   6.815714   6.402857  10.394286  12.945714  \n",
            "1978-12-17  10.227143   7.912857   8.984286   8.465714  11.715714  16.450000  \n",
            "1978-12-24   7.798571   8.667143   7.151429   8.072857  11.845714  18.977143  \n",
            "1978-12-31  13.708571  10.477143  10.868571  11.471429  12.947143  26.844286  \n",
            "\n",
            "[940 rows x 12 columns]\n"
          ]
        }
      ],
      "source": [
        "weekly_data = data.resample('W').mean()\n",
        "print(weekly_data)"
      ]
    },
    {
      "cell_type": "markdown",
      "metadata": {
        "pycharm": {
          "name": "#%% md\n"
        },
        "id": "azbNsN-R4Xsy"
      },
      "source": [
        "### Step 15. Calculate the min, max and mean windspeeds and standard deviations of the windspeeds across all locations for each week (assume that the first week starts on January 2 1961) for the first 52 weeks."
      ]
    },
    {
      "cell_type": "code",
      "execution_count": 24,
      "metadata": {
        "pycharm": {
          "name": "#%%\n"
        },
        "id": "YC4Hx83W4Xsy",
        "outputId": "c9d7cda0-6f1d-4971-a5fd-e5545dab42e3",
        "colab": {
          "base_uri": "https://localhost:8080/"
        }
      },
      "outputs": [
        {
          "output_type": "stream",
          "name": "stdout",
          "text": [
            "              RPT                                VAL                    \\\n",
            "              min    max       mean       std    min    max       mean   \n",
            "date                                                                     \n",
            "1961-01-08   7.21  15.92  11.984286  3.598832   5.09  15.12   9.997143   \n",
            "1961-01-15   5.58  14.25  10.530000  2.919338   1.13  13.13   7.678571   \n",
            "1961-01-22   4.92  19.83  13.204286  5.337402   3.42  14.37   9.862857   \n",
            "1961-01-29  13.62  25.04  19.880000  4.619061   9.96  23.91  16.141429   \n",
            "1961-02-05   7.62  24.21  15.791429  5.652125   4.25  24.21  14.050000   \n",
            "1961-02-12   7.25  15.79  11.291429  2.999508   3.58  13.46   7.262857   \n",
            "1961-02-19   6.04  22.50  15.130000  5.064609  11.63  20.17  15.091429   \n",
            "1961-02-26   7.79  25.80  15.221429  7.020716   7.08  21.50  13.625714   \n",
            "1961-03-05  11.00  18.50  13.772857  2.623774   8.63  16.88  12.828571   \n",
            "1961-03-12   4.29  16.08  11.191429  4.304677   4.00  15.79   8.701429   \n",
            "1961-03-19   4.92  16.88  11.911429  3.860036   9.46  15.54  13.501429   \n",
            "1961-03-26   6.29  15.00   9.567143  3.613298   2.58  11.63   8.387143   \n",
            "1961-04-02   5.88  18.25  11.494286  4.718672   3.50  16.29   9.638571   \n",
            "1961-04-09   6.79  17.50  11.220000  3.551765   3.04  13.67   8.887143   \n",
            "1961-04-16   3.13  22.83   9.674286  7.186220   3.96  17.00   7.751429   \n",
            "1961-04-23   4.00  21.09  12.621429  5.676655   3.71  15.41  10.438571   \n",
            "1961-04-30   4.08  16.29  10.117143  4.349662   6.50  14.46   9.798571   \n",
            "1961-05-07  10.63  22.00  14.058571  4.328685   4.96  17.00  12.641429   \n",
            "1961-05-14   9.25  17.67  12.434286  2.844538   3.63  14.09  10.078571   \n",
            "1961-05-21   4.88  15.04   8.225714  3.631730   3.58  10.17   5.631667   \n",
            "1961-05-28   4.96  11.79   8.155714  2.739433   3.67  12.50   7.388571   \n",
            "1961-06-04   4.50  24.50  10.875714  6.889750   4.75  20.75   9.481429   \n",
            "1961-06-11   7.96  23.00  12.761429  6.106588   3.75  19.79  10.588571   \n",
            "1961-06-18   6.13  14.33  10.952857  2.983173   4.12  14.54   9.870000   \n",
            "1961-06-25   4.00   9.00   7.345714  1.982035   3.25   9.50   6.108571   \n",
            "1961-07-02   7.75  18.05  12.286667  3.654666   6.34  14.37  11.565714   \n",
            "1961-07-09   2.88  18.16   9.715714  4.798079   3.92  17.71   8.602857   \n",
            "1961-07-16  11.83  22.50  17.637143  3.547547   9.04  19.29  13.582857   \n",
            "1961-07-23   3.04   5.88   4.202857  1.047978   2.92   6.79   4.255714   \n",
            "1961-07-30   6.13  16.08  10.561429  4.157641   4.63  13.79   8.445714   \n",
            "1961-08-06   7.54  24.54  12.287143  5.770689   6.71  21.42  10.921429   \n",
            "1961-08-13   5.46  16.62  11.654286  4.474531   5.50  12.08   9.391429   \n",
            "1961-08-20  13.13  18.91  15.607143  2.283635   7.25  13.62  10.565714   \n",
            "1961-08-27   7.67  18.16  12.391429  3.395857   6.87  14.58  11.430000   \n",
            "1961-09-03   3.63  17.41  11.177143  5.070515   4.67  22.00  12.804286   \n",
            "1961-09-10   6.04  17.12  11.891429  4.367354   3.96  13.59   9.268571   \n",
            "1961-09-17   5.33  28.75  15.434286  8.127242   6.21  22.08  13.024286   \n",
            "1961-09-24   6.92  10.25   8.500000  1.267399   2.92  13.62   7.154286   \n",
            "1961-10-01  10.34  23.21  15.918571  4.628893   6.96  13.62  11.070000   \n",
            "1961-10-08   4.79  20.50  10.192857  5.603025   4.83  11.54   8.184286   \n",
            "1961-10-15   3.71  23.71  10.578571  6.779627   6.13  21.37  10.482857   \n",
            "1961-10-22  10.46  28.62  19.260000  7.888314   3.75  19.46  13.364286   \n",
            "1961-10-29   4.33  26.42  16.077143  7.957637   2.75  21.25  11.867143   \n",
            "1961-11-05   3.54  16.79  11.320000  4.332247   7.54  16.96  11.440000   \n",
            "1961-11-12   8.29  21.34  13.103333  4.810965   6.75  16.38  10.097143   \n",
            "1961-11-19   7.50  15.00  10.798571  2.784358   4.21  13.00   7.951429   \n",
            "1961-11-26   5.75  14.29   9.154286  3.214368   3.29  11.79   7.337143   \n",
            "1961-12-03   7.92  23.75  15.335000  6.115445   4.67  18.71  13.162857   \n",
            "1961-12-10   7.00  20.75  12.966667  5.704576   7.08  18.66  12.171429   \n",
            "1961-12-17   9.29  18.05  14.055714  3.005893   8.63  17.62  12.542857   \n",
            "1961-12-24  11.46  24.41  15.757143  4.959717   9.79  16.13  11.971429   \n",
            "1961-12-31   5.04  20.54  13.634286  5.787783   3.08  16.04   9.504286   \n",
            "\n",
            "                        ROS         ...        CLO              BEL         \\\n",
            "                 std    min    max  ...       mean       std    min    max   \n",
            "date                                ...                                      \n",
            "1961-01-08  4.057634   5.54  15.37  ...   8.257143  2.638009   6.96  20.62   \n",
            "1961-01-15  4.559351   4.96  14.33  ...   6.011429  3.551382   4.79  20.17   \n",
            "1961-01-22  3.837785   7.29  20.79  ...   8.124286  4.783952   6.50  15.92   \n",
            "1961-01-29  5.170224  12.67  25.84  ...  15.640000  3.713368  14.04  27.71   \n",
            "1961-02-05  7.115069   5.09  16.71  ...   9.911429  2.253046  10.71  18.88   \n",
            "1961-02-12  3.144555   2.42  13.54  ...   9.732857  3.245842   7.12  19.79   \n",
            "1961-02-19  3.575012   6.13  19.41  ...  13.542857  2.531361  14.09  29.63   \n",
            "1961-02-26  5.147348   6.08  22.42  ...  12.730000  4.920064   9.59  23.21   \n",
            "1961-03-05  2.786488  11.04  15.67  ...  10.032857  3.610225   9.71  23.45   \n",
            "1961-03-12  3.980588   4.96  15.59  ...   9.245714  4.637319   4.96  20.41   \n",
            "1961-03-19  2.352867   5.25  13.96  ...  11.627143  3.099472  11.29  22.79   \n",
            "1961-03-26  3.657265   4.79  15.63  ...  11.481429  2.538224   8.25  21.34   \n",
            "1961-04-02  4.189532   5.17  14.96  ...  10.144286  3.128263   5.46  18.63   \n",
            "1961-04-09  3.383719   4.79  14.92  ...   8.654286  3.544145   4.79  17.00   \n",
            "1961-04-16  4.438748   3.92  19.79  ...   6.917143  3.958942   4.92  21.79   \n",
            "1961-04-23  4.631736   3.33  17.00  ...   9.551429  3.347972   6.75  19.21   \n",
            "1961-04-30  2.871425   2.54  14.96  ...   6.124286  2.840568   5.13  13.04   \n",
            "1961-05-07  4.194033   7.50  19.70  ...  10.157143  1.681485   7.08  19.33   \n",
            "1961-05-14  3.717093   6.38  14.92  ...  10.732857  3.072158   4.79  19.21   \n",
            "1961-05-21  2.468906   5.91  15.96  ...   7.114286  2.216889   6.63  12.00   \n",
            "1961-05-28  3.378537   3.58  20.96  ...   7.535714  2.575661   6.13  14.33   \n",
            "1961-06-04  5.208974   7.54  20.62  ...   8.380000  3.488901   8.12  26.38   \n",
            "1961-06-11  6.023834   4.83  21.21  ...  10.035714  4.006889   7.92  28.08   \n",
            "1961-06-18  3.346560   6.50  15.50  ...   9.742857  3.684905   7.71  25.25   \n",
            "1961-06-25  2.212460   5.13  10.37  ...  11.257143  2.286218  11.00  19.08   \n",
            "1961-07-02  3.031649   7.62  14.88  ...  10.785714  1.530162  10.83  21.87   \n",
            "1961-07-09  4.672882   6.34  14.88  ...   8.742857  4.098576   5.66  26.63   \n",
            "1961-07-16  3.410952   8.00  14.29  ...   9.895714  3.492587  11.12  20.25   \n",
            "1961-07-23  1.400010   4.08  12.67  ...   6.041429  1.439785   4.21  10.13   \n",
            "1961-07-30  3.203206   6.42  15.67  ...   9.470000  4.350268   7.87  22.17   \n",
            "1961-08-06  4.849331   7.62  21.34  ...  11.458571  4.678659   6.17  23.79   \n",
            "1961-08-13  2.316430   3.63  20.54  ...   9.208571  3.870036   7.67  17.83   \n",
            "1961-08-20  2.523416   9.17  14.04  ...  12.244286  2.730237   9.59  21.92   \n",
            "1961-08-27  3.174702   9.50  17.83  ...  12.507143  3.855302   5.75  23.38   \n",
            "1961-09-03  5.889768   2.46  13.67  ...  11.120000  3.731903  13.04  24.71   \n",
            "1961-09-10  3.594243   7.00  20.96  ...   9.535714  1.110013   6.54  13.92   \n",
            "1961-09-17  5.540457   3.83  26.50  ...  12.952857  6.523626   6.34  23.91   \n",
            "1961-09-24  3.445262   5.33  12.17  ...   6.798571  2.354092   4.54  20.96   \n",
            "1961-10-01  2.713787   8.87  19.50  ...  12.370000  3.023524   7.79  21.37   \n",
            "1961-10-08  2.441938   4.63  19.67  ...   6.628571  3.862182   5.04  17.83   \n",
            "1961-10-15  5.414760   4.21  20.17  ...   9.131429  4.847434   6.13  20.50   \n",
            "1961-10-22  5.998199   9.92  22.63  ...  16.461429  5.890511  10.88  24.71   \n",
            "1961-10-29  6.879973   4.79  23.09  ...  12.952857  6.277629   8.50  27.29   \n",
            "1961-11-05  3.247666   5.33  15.50  ...  10.441429  3.821184   9.25  22.71   \n",
            "1961-11-12  3.325205   6.04  20.41  ...   9.125714  4.436947   5.37  22.83   \n",
            "1961-11-19  3.208548   6.46  32.71  ...   6.031429  4.402588   0.71   9.59   \n",
            "1961-11-26  3.277904   4.42  14.46  ...   9.582857  2.747452   6.50  20.46   \n",
            "1961-12-03  4.720656   8.25  19.92  ...  11.868571  4.131866   5.50  25.41   \n",
            "1961-12-10  4.607872   4.67  16.66  ...   7.563333  3.458483   7.29  23.91   \n",
            "1961-12-17  3.552284   9.04  18.05  ...   9.731429  3.758894   5.50  20.62   \n",
            "1961-12-24  2.220866   8.08  22.13  ...   7.697143  4.637096   5.29  17.67   \n",
            "1961-12-31  4.566479   2.13  29.33  ...   7.701429  3.526625   3.75  13.21   \n",
            "\n",
            "                                   MAL                              \n",
            "                 mean       std    min    max       mean       std  \n",
            "date                                                                \n",
            "1961-01-08  12.341429  5.255643   7.17  12.12   9.366667  1.890055  \n",
            "1961-01-15   9.214286  5.337958   4.04  20.04   8.517143  5.568081  \n",
            "1961-01-22   9.821429  3.626584   6.79  17.96  11.434286  4.237239  \n",
            "1961-01-29  20.930000  5.210726  17.50  27.63  22.530000  3.874721  \n",
            "1961-02-05  14.710000  3.417850   7.17  19.25  13.375714  3.519744  \n",
            "1961-02-12  10.255714  4.553507   6.96  23.58  14.790000  6.015103  \n",
            "1961-02-19  21.167143  5.910938  10.96  22.58  16.584286  4.685377  \n",
            "1961-02-26  16.304286  5.091162   6.67  23.87  14.322857  6.182283  \n",
            "1961-03-05  15.837143  5.029075   8.83  17.54  12.894286  3.243624  \n",
            "1961-03-12  11.970000  5.900249   4.83  23.13  14.671429  6.802126  \n",
            "1961-03-19  19.350000  3.779727  11.34  22.95  16.227143  4.331958  \n",
            "1961-03-26  14.037143  4.318069  13.13  22.50  18.134286  3.701846  \n",
            "1961-04-02  13.370000  5.294658  10.88  19.58  14.245714  3.146156  \n",
            "1961-04-09  11.808571  4.884508   3.37  20.25  11.327143  6.774213  \n",
            "1961-04-16  10.155714  5.776031   5.66  19.21   9.915714  4.878421  \n",
            "1961-04-23  13.620000  4.735096   4.96  20.46  12.470000  5.908542  \n",
            "1961-04-30   9.720000  2.948237   2.67  17.50   8.637143  5.108365  \n",
            "1961-05-07  14.361429  4.130018  11.83  14.67  12.965714  1.028216  \n",
            "1961-05-14  13.052857  5.096517   3.33  29.33  14.884286  8.279714  \n",
            "1961-05-21   9.624286  1.975853   5.91  14.96  10.612857  3.310819  \n",
            "1961-05-28  10.518571  3.024524   8.00  17.04  11.697143  3.811818  \n",
            "1961-06-04  12.440000  6.295538   5.54  21.84  13.365714  5.249838  \n",
            "1961-06-11  13.714286  6.798882   8.75  23.13  14.702857  5.179137  \n",
            "1961-06-18  15.840000  5.868893   6.13  24.71  15.358571  6.073216  \n",
            "1961-06-25  14.370000  2.498386  13.75  21.50  17.410000  3.063011  \n",
            "1961-07-02  16.565714  4.286727  10.79  17.58  14.493333  2.855512  \n",
            "1961-07-09  13.487143  6.976259   5.88  26.58  13.291429  7.322161  \n",
            "1961-07-16  13.877143  3.213029   7.58  21.96  12.780000  4.648441  \n",
            "1961-07-23   7.524286  2.050218   5.41  10.92   8.415714  2.133994  \n",
            "1961-07-30  12.841429  5.580903   6.13  25.37  13.761429  6.664574  \n",
            "1961-08-06  15.040000  5.864083   9.67  26.30  16.904286  5.661904  \n",
            "1961-08-13  12.284286  3.930623   5.79  19.41  12.741429  5.259387  \n",
            "1961-08-20  14.922857  4.086725  13.04  24.30  16.626667  3.934238  \n",
            "1961-08-27  16.251429  6.711322   8.29  22.29  16.485714  4.947608  \n",
            "1961-09-03  18.652857  4.358753   8.00  22.54  15.772857  5.073407  \n",
            "1961-09-10   9.661429  2.677757  10.46  15.34  13.174286  1.818056  \n",
            "1961-09-17  16.962857  6.695998   6.63  33.09  16.745714  8.490112  \n",
            "1961-09-24  11.018571  5.235868   5.25  14.62   9.814286  3.113507  \n",
            "1961-10-01  15.750000  5.667530  10.13  17.16  14.451429  2.565349  \n",
            "1961-10-08   9.450000  4.433742   3.88  17.75  10.232857  4.672293  \n",
            "1961-10-15  14.298571  5.056558   5.71  19.41  12.897143  5.198525  \n",
            "1961-10-22  17.477143  5.645871  13.46  33.45  23.641429  7.468377  \n",
            "1961-10-29  15.592857  7.056150   9.83  30.88  18.404286  8.340881  \n",
            "1961-11-05  17.858571  4.471642   5.96  21.09  15.637143  5.165729  \n",
            "1961-11-12  12.391429  6.556558   5.96  21.04  13.305714  5.301785  \n",
            "1961-11-19   5.875714  3.643285   2.00  13.25   5.737143  3.787654  \n",
            "1961-11-26  11.772857  5.407223   4.25  22.58  12.732857  6.475867  \n",
            "1961-12-03  16.791429  6.387572   5.88  22.54  16.274286  5.701011  \n",
            "1961-12-10  13.470000  5.710117   6.38  16.71  11.115714  3.223181  \n",
            "1961-12-17  13.422857  5.675910   6.50  21.12  14.244286  5.455544  \n",
            "1961-12-24   9.958571  5.065308   2.62  16.62   8.164286  5.048035  \n",
            "1961-12-31   9.697143  3.262217   6.63  15.21  12.840000  3.012729  \n",
            "\n",
            "[52 rows x 48 columns]\n"
          ]
        }
      ],
      "source": [
        "weekly_stats = data['1961-01-02':'1961-12-31'].resample('W').agg(['min', 'max', 'mean', 'std'])\n",
        "print(weekly_stats)"
      ]
    }
  ],
  "metadata": {
    "anaconda-cloud": {},
    "kernelspec": {
      "display_name": "Python [default]",
      "language": "python",
      "name": "python2"
    },
    "language_info": {
      "codemirror_mode": {
        "name": "ipython",
        "version": 2
      },
      "file_extension": ".py",
      "mimetype": "text/x-python",
      "name": "python",
      "nbconvert_exporter": "python",
      "pygments_lexer": "ipython2",
      "version": "2.7.12"
    },
    "colab": {
      "provenance": []
    }
  },
  "nbformat": 4,
  "nbformat_minor": 0
}