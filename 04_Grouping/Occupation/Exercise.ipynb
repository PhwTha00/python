{
  "cells": [
    {
      "cell_type": "markdown",
      "metadata": {
        "pycharm": {
          "name": "#%% md\n"
        },
        "id": "CsYQ1iJ09w67"
      },
      "source": [
        "# Occupation"
      ]
    },
    {
      "cell_type": "markdown",
      "metadata": {
        "pycharm": {
          "name": "#%% md\n"
        },
        "id": "aynUeLGK9w7A"
      },
      "source": [
        "### Introduction:\n",
        "\n",
        "Special thanks to: https://github.com/justmarkham for sharing the dataset and materials.\n",
        "\n",
        "### Step 1. Import the necessary libraries"
      ]
    },
    {
      "cell_type": "code",
      "execution_count": 12,
      "metadata": {
        "pycharm": {
          "name": "#%%\n"
        },
        "id": "z8nS1XHP9w7B"
      },
      "outputs": [],
      "source": [
        "import pandas as pd\n"
      ]
    },
    {
      "cell_type": "markdown",
      "metadata": {
        "pycharm": {
          "name": "#%% md\n"
        },
        "id": "X0uiDMOa9w7C"
      },
      "source": [
        "### Step 2. Import the dataset from this [address](https://raw.githubusercontent.com/thieu1995/csv-files/main/data/pandas/u.user)."
      ]
    },
    {
      "cell_type": "code",
      "source": [
        "url = 'https://raw.githubusercontent.com/thieu1995/csv-files/main/data/pandas/u.user'\n",
        "df = pd.read_csv(url)\n",
        "print(df)"
      ],
      "metadata": {
        "id": "r0G4ckBL-gzq",
        "outputId": "14f2dbe3-6fc2-4ab6-db69-f064903afbb1",
        "colab": {
          "base_uri": "https://localhost:8080/"
        }
      },
      "execution_count": 13,
      "outputs": [
        {
          "output_type": "stream",
          "name": "stdout",
          "text": [
            "    user_id|age|gender|occupation|zip_code\n",
            "0                  1|24|M|technician|85711\n",
            "1                       2|53|F|other|94043\n",
            "2                      3|23|M|writer|32067\n",
            "3                  4|24|M|technician|43537\n",
            "4                       5|33|F|other|15213\n",
            "..                                     ...\n",
            "938                 939|26|F|student|33319\n",
            "939           940|32|M|administrator|02215\n",
            "940                 941|20|M|student|97229\n",
            "941               942|48|F|librarian|78209\n",
            "942                 943|22|M|student|77841\n",
            "\n",
            "[943 rows x 1 columns]\n"
          ]
        }
      ]
    },
    {
      "cell_type": "markdown",
      "metadata": {
        "pycharm": {
          "name": "#%% md\n"
        },
        "id": "sWUedblu9w7D"
      },
      "source": [
        "### Step 3. Assign it to a variable called users."
      ]
    },
    {
      "cell_type": "code",
      "execution_count": 14,
      "metadata": {
        "pycharm": {
          "name": "#%%\n"
        },
        "id": "I4Pb4Epk9w7D",
        "outputId": "abf138e7-b20f-4505-a839-cb2d41cfc0ed",
        "colab": {
          "base_uri": "https://localhost:8080/"
        }
      },
      "outputs": [
        {
          "output_type": "stream",
          "name": "stdout",
          "text": [
            "         age gender     occupation zip_code\n",
            "user_id                                    \n",
            "1         24      M     technician    85711\n",
            "2         53      F          other    94043\n",
            "3         23      M         writer    32067\n",
            "4         24      M     technician    43537\n",
            "5         33      F          other    15213\n",
            "...      ...    ...            ...      ...\n",
            "939       26      F        student    33319\n",
            "940       32      M  administrator    02215\n",
            "941       20      M        student    97229\n",
            "942       48      F      librarian    78209\n",
            "943       22      M        student    77841\n",
            "\n",
            "[943 rows x 4 columns]\n"
          ]
        }
      ],
      "source": [
        "users = pd.read_csv(url, sep='|', index_col='user_id')\n",
        "print(users)"
      ]
    },
    {
      "cell_type": "markdown",
      "metadata": {
        "pycharm": {
          "name": "#%% md\n"
        },
        "id": "SUGx2_L69w7D"
      },
      "source": [
        "### Step 4. Discover what is the mean age per occupation"
      ]
    },
    {
      "cell_type": "code",
      "execution_count": 15,
      "metadata": {
        "pycharm": {
          "name": "#%%\n"
        },
        "id": "4qhcDlmP9w7E",
        "outputId": "ea8b56d5-8cea-45d5-aec3-37d5edf46b2a",
        "colab": {
          "base_uri": "https://localhost:8080/"
        }
      },
      "outputs": [
        {
          "output_type": "stream",
          "name": "stdout",
          "text": [
            "occupation\n",
            "administrator    38.746835\n",
            "artist           31.392857\n",
            "doctor           43.571429\n",
            "educator         42.010526\n",
            "engineer         36.388060\n",
            "entertainment    29.222222\n",
            "executive        38.718750\n",
            "healthcare       41.562500\n",
            "homemaker        32.571429\n",
            "lawyer           36.750000\n",
            "librarian        40.000000\n",
            "marketing        37.615385\n",
            "none             26.555556\n",
            "other            34.523810\n",
            "programmer       33.121212\n",
            "retired          63.071429\n",
            "salesman         35.666667\n",
            "scientist        35.548387\n",
            "student          22.081633\n",
            "technician       33.148148\n",
            "writer           36.311111\n",
            "Name: age, dtype: float64\n"
          ]
        }
      ],
      "source": [
        "mean_age_per_occupation = users.groupby('occupation')['age'].mean()\n",
        "print(mean_age_per_occupation)"
      ]
    },
    {
      "cell_type": "markdown",
      "metadata": {
        "pycharm": {
          "name": "#%% md\n"
        },
        "id": "xFx2KDC59w7E"
      },
      "source": [
        "### Step 5. Discover the Male ratio per occupation and sort it from the most to the least"
      ]
    },
    {
      "cell_type": "code",
      "execution_count": 16,
      "metadata": {
        "pycharm": {
          "name": "#%%\n"
        },
        "id": "i0X15bCQ9w7E",
        "outputId": "3fe41728-9d99-4a1a-9fe3-20d61127cc84",
        "colab": {
          "base_uri": "https://localhost:8080/"
        }
      },
      "outputs": [
        {
          "output_type": "stream",
          "name": "stdout",
          "text": [
            "user_id\n",
            "1      1\n",
            "2      0\n",
            "3      1\n",
            "4      1\n",
            "5      0\n",
            "      ..\n",
            "939    0\n",
            "940    1\n",
            "941    1\n",
            "942    0\n",
            "943    1\n",
            "Name: male_ratio, Length: 943, dtype: int64\n"
          ]
        }
      ],
      "source": [
        "def male_ratio(gender):\n",
        "    if gender.lower() == 'm':\n",
        "        return 1\n",
        "    elif gender.lower() == 'f':\n",
        "        return 0\n",
        "    else:\n",
        "        return pd.NA\n",
        "\n",
        "users['male_ratio'] = users['gender'].apply(male_ratio)\n",
        "male_ratio_per_occupation = users.groupby('occupation')['male_ratio'].mean().sort_values(ascending=False)\n",
        "print(users['male_ratio'])"
      ]
    },
    {
      "cell_type": "markdown",
      "metadata": {
        "pycharm": {
          "name": "#%% md\n"
        },
        "id": "QT3c1ULf9w7F"
      },
      "source": [
        "### Step 6. For each occupation, calculate the minimum and maximum ages"
      ]
    },
    {
      "cell_type": "code",
      "execution_count": 17,
      "metadata": {
        "pycharm": {
          "name": "#%%\n"
        },
        "id": "21fnDTas9w7F",
        "outputId": "f2a3c789-eede-47f2-dd8e-570a4825c3b0",
        "colab": {
          "base_uri": "https://localhost:8080/"
        }
      },
      "outputs": [
        {
          "output_type": "stream",
          "name": "stdout",
          "text": [
            "               min  max\n",
            "occupation             \n",
            "administrator   21   70\n",
            "artist          19   48\n",
            "doctor          28   64\n",
            "educator        23   63\n",
            "engineer        22   70\n",
            "entertainment   15   50\n",
            "executive       22   69\n",
            "healthcare      22   62\n",
            "homemaker       20   50\n",
            "lawyer          21   53\n",
            "librarian       23   69\n",
            "marketing       24   55\n",
            "none            11   55\n",
            "other           13   64\n",
            "programmer      20   63\n",
            "retired         51   73\n",
            "salesman        18   66\n",
            "scientist       23   55\n",
            "student          7   42\n",
            "technician      21   55\n",
            "writer          18   60\n"
          ]
        }
      ],
      "source": [
        "min_max_ages_per_occupation = users.groupby('occupation')['age'].agg(['min', 'max'])\n",
        "print(min_max_ages_per_occupation)"
      ]
    },
    {
      "cell_type": "markdown",
      "metadata": {
        "pycharm": {
          "name": "#%% md\n"
        },
        "id": "PJ5MI5Ib9w7F"
      },
      "source": [
        "### Step 7. For each combination of occupation and gender, calculate the mean age"
      ]
    },
    {
      "cell_type": "code",
      "execution_count": 18,
      "metadata": {
        "pycharm": {
          "name": "#%%\n"
        },
        "id": "hBuU40yf9w7G",
        "outputId": "c3f938bd-6daf-46cd-aa28-52664ac412a6",
        "colab": {
          "base_uri": "https://localhost:8080/"
        }
      },
      "outputs": [
        {
          "output_type": "stream",
          "name": "stdout",
          "text": [
            "occupation     gender\n",
            "administrator  F         40.638889\n",
            "               M         37.162791\n",
            "artist         F         30.307692\n",
            "               M         32.333333\n",
            "doctor         M         43.571429\n",
            "educator       F         39.115385\n",
            "               M         43.101449\n",
            "engineer       F         29.500000\n",
            "               M         36.600000\n",
            "entertainment  F         31.000000\n",
            "               M         29.000000\n",
            "executive      F         44.000000\n",
            "               M         38.172414\n",
            "healthcare     F         39.818182\n",
            "               M         45.400000\n",
            "homemaker      F         34.166667\n",
            "               M         23.000000\n",
            "lawyer         F         39.500000\n",
            "               M         36.200000\n",
            "librarian      F         40.000000\n",
            "               M         40.000000\n",
            "marketing      F         37.200000\n",
            "               M         37.875000\n",
            "none           F         36.500000\n",
            "               M         18.600000\n",
            "other          F         35.472222\n",
            "               M         34.028986\n",
            "programmer     F         32.166667\n",
            "               M         33.216667\n",
            "retired        F         70.000000\n",
            "               M         62.538462\n",
            "salesman       F         27.000000\n",
            "               M         38.555556\n",
            "scientist      F         28.333333\n",
            "               M         36.321429\n",
            "student        F         20.750000\n",
            "               M         22.669118\n",
            "technician     F         38.000000\n",
            "               M         32.961538\n",
            "writer         F         37.631579\n",
            "               M         35.346154\n",
            "Name: age, dtype: float64\n"
          ]
        }
      ],
      "source": [
        "mean_age_per_combination = users.groupby(['occupation', 'gender'])['age'].mean()\n",
        "print(mean_age_per_combination)"
      ]
    },
    {
      "cell_type": "markdown",
      "metadata": {
        "pycharm": {
          "name": "#%% md\n"
        },
        "id": "zLD1MOIf9w7G"
      },
      "source": [
        "### Step 8.  For each occupation present the percentage of women and men"
      ]
    },
    {
      "cell_type": "code",
      "execution_count": 21,
      "metadata": {
        "pycharm": {
          "name": "#%%\n"
        },
        "id": "5Kx2-T-T9w7G",
        "outputId": "326b761e-41b5-45e2-fa6c-dcaf697503f0",
        "colab": {
          "base_uri": "https://localhost:8080/"
        }
      },
      "outputs": [
        {
          "output_type": "stream",
          "name": "stdout",
          "text": [
            "gender                 F           M\n",
            "occupation                          \n",
            "administrator  45.569620   54.430380\n",
            "artist         46.428571   53.571429\n",
            "doctor          0.000000  100.000000\n",
            "educator       27.368421   72.631579\n",
            "engineer        2.985075   97.014925\n",
            "entertainment  11.111111   88.888889\n",
            "executive       9.375000   90.625000\n",
            "healthcare     68.750000   31.250000\n",
            "homemaker      85.714286   14.285714\n",
            "lawyer         16.666667   83.333333\n",
            "librarian      56.862745   43.137255\n",
            "marketing      38.461538   61.538462\n",
            "none           44.444444   55.555556\n",
            "other          34.285714   65.714286\n",
            "programmer      9.090909   90.909091\n",
            "retired         7.142857   92.857143\n",
            "salesman       25.000000   75.000000\n",
            "scientist       9.677419   90.322581\n",
            "student        30.612245   69.387755\n",
            "technician      3.703704   96.296296\n",
            "writer         42.222222   57.777778\n"
          ]
        }
      ],
      "source": [
        "gender_percentage_per_occupation = users.groupby(['occupation', 'gender']).size() / users.groupby('occupation').size() * 100\n",
        "gender_percentage_per_occupation = gender_percentage_per_occupation.unstack().fillna(0)\n",
        "print(gender_percentage_per_occupation)"
      ]
    }
  ],
  "metadata": {
    "kernelspec": {
      "display_name": "Python 2",
      "language": "python",
      "name": "python2"
    },
    "language_info": {
      "codemirror_mode": {
        "name": "ipython",
        "version": 2
      },
      "file_extension": ".py",
      "mimetype": "text/x-python",
      "name": "python",
      "nbconvert_exporter": "python",
      "pygments_lexer": "ipython2",
      "version": "2.7.11"
    },
    "colab": {
      "provenance": []
    }
  },
  "nbformat": 4,
  "nbformat_minor": 0
}